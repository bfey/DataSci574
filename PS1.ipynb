{
 "cells": [
  {
   "cell_type": "code",
   "execution_count": 2,
   "metadata": {
    "collapsed": false
   },
   "outputs": [
    {
     "name": "stdout",
     "output_type": "stream",
     "text": [
      "IPython version:       3.0.0 (need at least 1.0)\n",
      "Numpy version:        1.10.2 (need at least 1.7.1)\n",
      "SciPy version:        0.16.0 (need at least 0.12.0)\n",
      "Pandas version:       0.17.1 (need at least 0.11.0)\n",
      "Mapltolib version:     1.5.0 (need at least 1.2.1)\n",
      "Scikit-Learn version:   0.17 (need at least 0.13.1)\n"
     ]
    }
   ],
   "source": [
    "#IPython is what you are using now to run the notebook\n",
    "import IPython\n",
    "print \"IPython version:      %6.6s (need at least 1.0)\" % IPython.__version__\n",
    "\n",
    "# Numpy is a library for working with Arrays\n",
    "import numpy as np\n",
    "print \"Numpy version:        %6.6s (need at least 1.7.1)\" % np.__version__\n",
    "\n",
    "# SciPy implements many different numerical algorithms\n",
    "import scipy as sp\n",
    "print \"SciPy version:        %6.6s (need at least 0.12.0)\" % sp.__version__\n",
    "\n",
    "# Pandas makes working with data tables easier\n",
    "import pandas as pd\n",
    "print \"Pandas version:       %6.6s (need at least 0.11.0)\" % pd.__version__\n",
    "\n",
    "# Module for plotting\n",
    "import matplotlib\n",
    "print \"Mapltolib version:    %6.6s (need at least 1.2.1)\" % matplotlib.__version__\n",
    "\n",
    "# SciKit Learn implements several Machine Learning algorithms\n",
    "import sklearn\n",
    "print \"Scikit-Learn version: %6.6s (need at least 0.13.1)\" % sklearn.__version__\n"
   ]
  },
  {
   "cell_type": "markdown",
   "metadata": {},
   "source": [
    "##About the Problem Set: \n",
    "This is the same problem set used by Emma Spiro in INFX573. The only difference is that instead of doing the problem set in R, you will use Python and the IPython notebook.\n",
    "\n",
    "##Instructions: \n",
    "In this problem set you will perform a basic exploratory analysis on an example dataset, bringing to bear all of your new skills in data manipulation and visualization. You will be required to submit well commented python code, documenting all code used in this problem set, along with a write up answering all questions below. Use figures as appropriate to support your answers, and when required by the problem. \n",
    "This data set uses the NYCFlights13 dataset. You can download the dataset from canvas."
   ]
  },
  {
   "cell_type": "markdown",
   "metadata": {},
   "source": [
    "# Problem Set 1, due January 13th at 12:00pm \n",
    "(in other words, it is due at noon, or one minute after 11:59am).\n",
    "\n",
    "###Before You Start\n",
    "Make sure to at least take a basic tutorial in the IPython notebook, otherwise you'll be totally lost.  For this problem set, you should download INFX574-PS1.ipynb and the flights.zip dataset from Canvas. Create a local copy of the notebook and rename it LASTNAME_FIRSTNAME-PS1.ipynb. Then edit your renamed file directly in your browser by typing:\n",
    "```\n",
    "ipython notebook <name_of_downloaded_file>\n",
    "```\n",
    "\n",
    "You should also make sure the following libraries load correctly (click on the box below and hit Ctrl-Enter)"
   ]
  },
  {
   "cell_type": "code",
   "execution_count": 3,
   "metadata": {
    "collapsed": false
   },
   "outputs": [],
   "source": [
    "# Import and alias pyplot from matplotlib\n",
    "import matplotlib.pyplot as plt\n",
    "\n",
    "# Set plots to plot inline\n",
    "%matplotlib inline \n",
    "\n",
    "# Import StatsModels for OLS\n",
    "import statsmodels.api as sm"
   ]
  },
  {
   "cell_type": "code",
   "execution_count": 4,
   "metadata": {
    "collapsed": false,
    "scrolled": true
   },
   "outputs": [],
   "source": [
    "# Load dataset. Assumes flights.zip has been unpacked and saved as flights.csv in the current directory\n",
    "# Create dataframe from file \n",
    "flights_df = pd.read_csv('flights.csv')"
   ]
  },
  {
   "cell_type": "code",
   "execution_count": 5,
   "metadata": {
    "collapsed": false
   },
   "outputs": [
    {
     "name": "stdout",
     "output_type": "stream",
     "text": [
      "(336776, 17)\n",
      "Index([u'Unnamed: 0', u'year', u'month', u'day', u'dep_time', u'dep_delay',\n",
      "       u'arr_time', u'arr_delay', u'carrier', u'tailnum', u'flight', u'origin',\n",
      "       u'dest', u'air_time', u'distance', u'hour', u'minute'],\n",
      "      dtype='object')\n",
      "Unnamed: 0      int64\n",
      "year            int64\n",
      "month           int64\n",
      "day             int64\n",
      "dep_time      float64\n",
      "dep_delay     float64\n",
      "arr_time      float64\n",
      "arr_delay     float64\n",
      "carrier        object\n",
      "tailnum        object\n",
      "flight          int64\n",
      "origin         object\n",
      "dest           object\n",
      "air_time      float64\n",
      "distance        int64\n",
      "hour          float64\n",
      "minute        float64\n",
      "dtype: object\n"
     ]
    }
   ],
   "source": [
    "# Get a quick overview of the data\n",
    "print flights_df.shape # look at num of rows, cols\n",
    "print flights_df.columns # get names of all cols\n",
    "print flights_df.dtypes # get data type for each col"
   ]
  },
  {
   "cell_type": "code",
   "execution_count": 5,
   "metadata": {
    "collapsed": false
   },
   "outputs": [
    {
     "name": "stdout",
     "output_type": "stream",
     "text": [
      "['IAH' 'MIA' 'BQN' 'ATL' 'ORD' 'FLL' 'IAD' 'MCO' 'PBI' 'TPA' 'LAX' 'SFO'\n",
      " 'DFW' 'BOS' 'LAS' 'MSP' 'DTW' 'RSW' 'SJU' 'PHX' 'BWI' 'CLT' 'BUF' 'DEN'\n",
      " 'SNA' 'MSY' 'SLC' 'XNA' 'MKE' 'SEA' 'ROC' 'SYR' 'SRQ' 'RDU' 'CMH' 'JAX'\n",
      " 'CHS' 'MEM' 'PIT' 'SAN' 'DCA' 'CLE' 'STL' 'MYR' 'JAC' 'MDW' 'HNL' 'BNA'\n",
      " 'AUS' 'BTV' 'PHL' 'STT' 'EGE' 'AVL' 'PWM' 'IND' 'SAV' 'CAK' 'HOU' 'LGB'\n",
      " 'DAY' 'ALB' 'BDL' 'MHT' 'MSN' 'GSO' 'CVG' 'BUR' 'RIC' 'GSP' 'GRR' 'MCI'\n",
      " 'ORF' 'SAT' 'SDF' 'PDX' 'SJC' 'OMA' 'CRW' 'OAK' 'SMF' 'TUL' 'TYS' 'OKC'\n",
      " 'PVD' 'DSM' 'PSE' 'BHM' 'CAE' 'HDN' 'BZN' 'MTJ' 'EYW' 'PSP' 'ACK' 'BGR'\n",
      " 'ABQ' 'ILM' 'MVY' 'SBN' 'LEX' 'CHO' 'TVC' 'ANC' 'LGA']\n"
     ]
    },
    {
     "data": {
      "text/html": [
       "<div>\n",
       "<table border=\"1\" class=\"dataframe\">\n",
       "  <thead>\n",
       "    <tr style=\"text-align: right;\">\n",
       "      <th></th>\n",
       "      <th>Unnamed: 0</th>\n",
       "      <th>year</th>\n",
       "      <th>month</th>\n",
       "      <th>day</th>\n",
       "      <th>dep_time</th>\n",
       "      <th>dep_delay</th>\n",
       "      <th>arr_time</th>\n",
       "      <th>arr_delay</th>\n",
       "      <th>carrier</th>\n",
       "      <th>tailnum</th>\n",
       "      <th>flight</th>\n",
       "      <th>origin</th>\n",
       "      <th>dest</th>\n",
       "      <th>air_time</th>\n",
       "      <th>distance</th>\n",
       "      <th>hour</th>\n",
       "      <th>minute</th>\n",
       "    </tr>\n",
       "  </thead>\n",
       "  <tbody>\n",
       "    <tr>\n",
       "      <th>0</th>\n",
       "      <td>1</td>\n",
       "      <td>2013</td>\n",
       "      <td>1</td>\n",
       "      <td>1</td>\n",
       "      <td>517</td>\n",
       "      <td>2</td>\n",
       "      <td>830</td>\n",
       "      <td>11</td>\n",
       "      <td>UA</td>\n",
       "      <td>N14228</td>\n",
       "      <td>1545</td>\n",
       "      <td>EWR</td>\n",
       "      <td>IAH</td>\n",
       "      <td>227</td>\n",
       "      <td>1400</td>\n",
       "      <td>5</td>\n",
       "      <td>17</td>\n",
       "    </tr>\n",
       "    <tr>\n",
       "      <th>1</th>\n",
       "      <td>2</td>\n",
       "      <td>2013</td>\n",
       "      <td>1</td>\n",
       "      <td>1</td>\n",
       "      <td>533</td>\n",
       "      <td>4</td>\n",
       "      <td>850</td>\n",
       "      <td>20</td>\n",
       "      <td>UA</td>\n",
       "      <td>N24211</td>\n",
       "      <td>1714</td>\n",
       "      <td>LGA</td>\n",
       "      <td>IAH</td>\n",
       "      <td>227</td>\n",
       "      <td>1416</td>\n",
       "      <td>5</td>\n",
       "      <td>33</td>\n",
       "    </tr>\n",
       "    <tr>\n",
       "      <th>2</th>\n",
       "      <td>3</td>\n",
       "      <td>2013</td>\n",
       "      <td>1</td>\n",
       "      <td>1</td>\n",
       "      <td>542</td>\n",
       "      <td>2</td>\n",
       "      <td>923</td>\n",
       "      <td>33</td>\n",
       "      <td>AA</td>\n",
       "      <td>N619AA</td>\n",
       "      <td>1141</td>\n",
       "      <td>JFK</td>\n",
       "      <td>MIA</td>\n",
       "      <td>160</td>\n",
       "      <td>1089</td>\n",
       "      <td>5</td>\n",
       "      <td>42</td>\n",
       "    </tr>\n",
       "    <tr>\n",
       "      <th>3</th>\n",
       "      <td>4</td>\n",
       "      <td>2013</td>\n",
       "      <td>1</td>\n",
       "      <td>1</td>\n",
       "      <td>544</td>\n",
       "      <td>-1</td>\n",
       "      <td>1004</td>\n",
       "      <td>-18</td>\n",
       "      <td>B6</td>\n",
       "      <td>N804JB</td>\n",
       "      <td>725</td>\n",
       "      <td>JFK</td>\n",
       "      <td>BQN</td>\n",
       "      <td>183</td>\n",
       "      <td>1576</td>\n",
       "      <td>5</td>\n",
       "      <td>44</td>\n",
       "    </tr>\n",
       "    <tr>\n",
       "      <th>4</th>\n",
       "      <td>5</td>\n",
       "      <td>2013</td>\n",
       "      <td>1</td>\n",
       "      <td>1</td>\n",
       "      <td>554</td>\n",
       "      <td>-6</td>\n",
       "      <td>812</td>\n",
       "      <td>-25</td>\n",
       "      <td>DL</td>\n",
       "      <td>N668DN</td>\n",
       "      <td>461</td>\n",
       "      <td>LGA</td>\n",
       "      <td>ATL</td>\n",
       "      <td>116</td>\n",
       "      <td>762</td>\n",
       "      <td>5</td>\n",
       "      <td>54</td>\n",
       "    </tr>\n",
       "    <tr>\n",
       "      <th>5</th>\n",
       "      <td>6</td>\n",
       "      <td>2013</td>\n",
       "      <td>1</td>\n",
       "      <td>1</td>\n",
       "      <td>554</td>\n",
       "      <td>-4</td>\n",
       "      <td>740</td>\n",
       "      <td>12</td>\n",
       "      <td>UA</td>\n",
       "      <td>N39463</td>\n",
       "      <td>1696</td>\n",
       "      <td>EWR</td>\n",
       "      <td>ORD</td>\n",
       "      <td>150</td>\n",
       "      <td>719</td>\n",
       "      <td>5</td>\n",
       "      <td>54</td>\n",
       "    </tr>\n",
       "    <tr>\n",
       "      <th>6</th>\n",
       "      <td>7</td>\n",
       "      <td>2013</td>\n",
       "      <td>1</td>\n",
       "      <td>1</td>\n",
       "      <td>555</td>\n",
       "      <td>-5</td>\n",
       "      <td>913</td>\n",
       "      <td>19</td>\n",
       "      <td>B6</td>\n",
       "      <td>N516JB</td>\n",
       "      <td>507</td>\n",
       "      <td>EWR</td>\n",
       "      <td>FLL</td>\n",
       "      <td>158</td>\n",
       "      <td>1065</td>\n",
       "      <td>5</td>\n",
       "      <td>55</td>\n",
       "    </tr>\n",
       "    <tr>\n",
       "      <th>7</th>\n",
       "      <td>8</td>\n",
       "      <td>2013</td>\n",
       "      <td>1</td>\n",
       "      <td>1</td>\n",
       "      <td>557</td>\n",
       "      <td>-3</td>\n",
       "      <td>709</td>\n",
       "      <td>-14</td>\n",
       "      <td>EV</td>\n",
       "      <td>N829AS</td>\n",
       "      <td>5708</td>\n",
       "      <td>LGA</td>\n",
       "      <td>IAD</td>\n",
       "      <td>53</td>\n",
       "      <td>229</td>\n",
       "      <td>5</td>\n",
       "      <td>57</td>\n",
       "    </tr>\n",
       "    <tr>\n",
       "      <th>8</th>\n",
       "      <td>9</td>\n",
       "      <td>2013</td>\n",
       "      <td>1</td>\n",
       "      <td>1</td>\n",
       "      <td>557</td>\n",
       "      <td>-3</td>\n",
       "      <td>838</td>\n",
       "      <td>-8</td>\n",
       "      <td>B6</td>\n",
       "      <td>N593JB</td>\n",
       "      <td>79</td>\n",
       "      <td>JFK</td>\n",
       "      <td>MCO</td>\n",
       "      <td>140</td>\n",
       "      <td>944</td>\n",
       "      <td>5</td>\n",
       "      <td>57</td>\n",
       "    </tr>\n",
       "    <tr>\n",
       "      <th>9</th>\n",
       "      <td>10</td>\n",
       "      <td>2013</td>\n",
       "      <td>1</td>\n",
       "      <td>1</td>\n",
       "      <td>558</td>\n",
       "      <td>-2</td>\n",
       "      <td>753</td>\n",
       "      <td>8</td>\n",
       "      <td>AA</td>\n",
       "      <td>N3ALAA</td>\n",
       "      <td>301</td>\n",
       "      <td>LGA</td>\n",
       "      <td>ORD</td>\n",
       "      <td>138</td>\n",
       "      <td>733</td>\n",
       "      <td>5</td>\n",
       "      <td>58</td>\n",
       "    </tr>\n",
       "  </tbody>\n",
       "</table>\n",
       "</div>"
      ],
      "text/plain": [
       "   Unnamed: 0  year  month  day  dep_time  dep_delay  arr_time  arr_delay  \\\n",
       "0           1  2013      1    1       517          2       830         11   \n",
       "1           2  2013      1    1       533          4       850         20   \n",
       "2           3  2013      1    1       542          2       923         33   \n",
       "3           4  2013      1    1       544         -1      1004        -18   \n",
       "4           5  2013      1    1       554         -6       812        -25   \n",
       "5           6  2013      1    1       554         -4       740         12   \n",
       "6           7  2013      1    1       555         -5       913         19   \n",
       "7           8  2013      1    1       557         -3       709        -14   \n",
       "8           9  2013      1    1       557         -3       838         -8   \n",
       "9          10  2013      1    1       558         -2       753          8   \n",
       "\n",
       "  carrier tailnum  flight origin dest  air_time  distance  hour  minute  \n",
       "0      UA  N14228    1545    EWR  IAH       227      1400     5      17  \n",
       "1      UA  N24211    1714    LGA  IAH       227      1416     5      33  \n",
       "2      AA  N619AA    1141    JFK  MIA       160      1089     5      42  \n",
       "3      B6  N804JB     725    JFK  BQN       183      1576     5      44  \n",
       "4      DL  N668DN     461    LGA  ATL       116       762     5      54  \n",
       "5      UA  N39463    1696    EWR  ORD       150       719     5      54  \n",
       "6      B6  N516JB     507    EWR  FLL       158      1065     5      55  \n",
       "7      EV  N829AS    5708    LGA  IAD        53       229     5      57  \n",
       "8      B6  N593JB      79    JFK  MCO       140       944     5      57  \n",
       "9      AA  N3ALAA     301    LGA  ORD       138       733     5      58  "
      ]
     },
     "execution_count": 5,
     "metadata": {},
     "output_type": "execute_result"
    }
   ],
   "source": [
    "# get list of unique destination airport codes in set\n",
    "print flights_df.dest.unique()\n",
    "\n",
    "# Check the first 10 rows of data in the dataframe\n",
    "flights_df.head(10)"
   ]
  },
  {
   "cell_type": "markdown",
   "metadata": {},
   "source": [
    "##Some Tips\n",
    "\n",
    "* This assignment involves extensive Data frame splitting and aggregation. You should look into the details of the methods groupby, transform, sum, count, mean etc\n",
    "* Many of the tasks in the assignment can be done either through the Pandas Data Frame or by converting the data frames to Series. Many of the methods in the numpy are applicable to Series only. When stuck, try to explore the type of object (Pandas Data Frame or Numpy Series) you are dealing with."
   ]
  },
  {
   "cell_type": "markdown",
   "metadata": {},
   "source": [
    "##Question 1\n",
    "Let’s explore flights from NYC to Seattle. Use the flights dataset to answer the following questions.\n",
    "\n",
    "(a) How many flights were there from NYC airports to Seattle in 2013?"
   ]
  },
  {
   "cell_type": "code",
   "execution_count": 6,
   "metadata": {
    "collapsed": false
   },
   "outputs": [
    {
     "name": "stdout",
     "output_type": "stream",
     "text": [
      "Unnamed: 0    3923\n",
      "year          3923\n",
      "month         3923\n",
      "day           3923\n",
      "dep_time      3904\n",
      "dep_delay     3904\n",
      "arr_time      3903\n",
      "arr_delay     3885\n",
      "carrier       3923\n",
      "tailnum       3917\n",
      "flight        3923\n",
      "origin        3923\n",
      "dest          3923\n",
      "air_time      3885\n",
      "distance      3923\n",
      "hour          3904\n",
      "minute        3904\n",
      "dtype: int64\n"
     ]
    }
   ],
   "source": [
    "# filter dataset on 'dest' == 'SEA', to narrow all flights going to Seatac airport\n",
    "print flights_df[flights_df['dest']=='SEA'].count()"
   ]
  },
  {
   "cell_type": "markdown",
   "metadata": {},
   "source": [
    "It appears there were between 3903 and 3923 flights from NYC airports to Seattle in 2013. Some of the columns are missing values for some flights, leading to different counts. I put the likely number of completed SEA-bound flights at 3903, which is the number of flights that recorded an arrival time. Based on the data, I would speculate that 3923 flights were planned, as that many have a flight number, origin, destination, year/month/day, carrier, and distance. These are all fields that would be known at the time a flight was scheduled. However, it is likely that only completed flights would record an arrival time. Therefore I put the number at 3903, and presume that 20 of the 3923 scheduled flights were cancelled for one reason or another."
   ]
  },
  {
   "cell_type": "markdown",
   "metadata": {},
   "source": [
    "(b) How many airlines fly from NYC to Seattle?"
   ]
  },
  {
   "cell_type": "code",
   "execution_count": 7,
   "metadata": {
    "collapsed": false
   },
   "outputs": [
    {
     "name": "stdout",
     "output_type": "stream",
     "text": [
      "Unique carriers: ['AS' 'DL' 'UA' 'B6' 'AA']\n",
      "Number of unique carriers 5\n"
     ]
    }
   ],
   "source": [
    "# create an array of unique carriers with 'dest' == 'SEA' filter, then get the length of the array.\n",
    "\n",
    "print 'Unique carriers:', flights_df[flights_df['dest']=='SEA'].carrier.unique()\n",
    "print 'Number of unique carriers', len(flights_df[flights_df['dest']=='SEA'].carrier.unique())"
   ]
  },
  {
   "cell_type": "markdown",
   "metadata": {},
   "source": [
    "Five different airlines fly from NYC ariports to Seattle (Seatac airport), and have the airline codes AS, DL, UA, B6, and AA. "
   ]
  },
  {
   "cell_type": "markdown",
   "metadata": {},
   "source": [
    "(c) How many unique air planes fly from NYC to Seattle?"
   ]
  },
  {
   "cell_type": "code",
   "execution_count": 8,
   "metadata": {
    "collapsed": false
   },
   "outputs": [
    {
     "name": "stdout",
     "output_type": "stream",
     "text": [
      "Number of unique planes: 936\n"
     ]
    }
   ],
   "source": [
    "# create an array of unique tailnums with 'dest' == 'SEA' filter, then get the length of the array.\n",
    "print 'Number of unique planes:', len(flights_df[flights_df['dest']=='SEA'].tailnum.unique())"
   ]
  },
  {
   "cell_type": "markdown",
   "metadata": {},
   "source": [
    "936 different airplanes fly from NYC to Seattle, identified by a count of their tail numbers, which are unique to each plane."
   ]
  },
  {
   "cell_type": "markdown",
   "metadata": {},
   "source": [
    "(d) What is the average arrival delay for flights from NC to Seattle?"
   ]
  },
  {
   "cell_type": "code",
   "execution_count": 9,
   "metadata": {
    "collapsed": false
   },
   "outputs": [
    {
     "name": "stdout",
     "output_type": "stream",
     "text": [
      "Avg arrival deviation: -1.0990990991\n",
      "Avg amount delayed: 39.7998423956\n"
     ]
    }
   ],
   "source": [
    "# take the mean of a list of arrival delays after filtering for 'dest' == SEA\n",
    "print 'Avg arrival deviation:', flights_df[flights_df['dest'] == 'SEA'].arr_delay.mean() # include all flights\n",
    "print 'Avg amount delayed:', flights_df[(flights_df['dest'] == 'SEA') & \n",
    "           (flights_df['arr_delay'] > 0)].arr_delay.mean() # include only \"delayed\" flights"
   ]
  },
  {
   "cell_type": "markdown",
   "metadata": {},
   "source": [
    "The average of the field 'arr_delay' on flights to Seattle is -1.1 minutes. This means that on average, flights to Seattle arrived earlier than scheduled. A more standard notion of delay is to describe the amount of time that late flights were delayed by. When looked at this way (by including only flights that had a positive arr_delay value), the average arrival delay on flights to Seattle was 39.8 minutes."
   ]
  },
  {
   "cell_type": "markdown",
   "metadata": {},
   "source": [
    "(e) What proportion of flights to Seattle come from each NYC airport?"
   ]
  },
  {
   "cell_type": "code",
   "execution_count": 10,
   "metadata": {
    "collapsed": false
   },
   "outputs": [
    {
     "name": "stdout",
     "output_type": "stream",
     "text": [
      "EWR 0.466734641856\n",
      "JFK 0.533265358144\n",
      "None\n"
     ]
    }
   ],
   "source": [
    "# Create objects for proportion function\n",
    "sea_flights = flights_df[flights_df['dest'] == 'SEA'] \n",
    "airports = sea_flights.origin.unique()\n",
    "flight_denom = sea_flights.flight.count()\n",
    "\n",
    "# Proportion function to print an airports proportion of flights (portion/total) to seattle given an airport\n",
    "def flight_proportion(airport):\n",
    "    for i in airport:\n",
    "        print i, float(sea_flights[sea_flights['origin'] == i].flight.count()) / float(flight_denom) # change both numerator and denominator to float\n",
    "\n",
    "# run function, passing in the unique NYC airports\n",
    "print flight_proportion(airports)\n"
   ]
  },
  {
   "cell_type": "markdown",
   "metadata": {},
   "source": [
    "Approximately 46.7% of New York to Seattle flights originate in Newark (EWR), and 53.3% originate at JFK airport. No flights were reported from LaGuardia (LGA). This is based on scheduled flight information, not completed flight records."
   ]
  },
  {
   "cell_type": "markdown",
   "metadata": {},
   "source": [
    "## Question 2\n",
    "Flights are often delayed. Consider the following questions exploring delay patterns.\n",
    "\n",
    "(a) Which date has the largest average departure delay? Which date has the largest average arrival delay?"
   ]
  },
  {
   "cell_type": "code",
   "execution_count": 11,
   "metadata": {
    "collapsed": false
   },
   "outputs": [
    {
     "name": "stdout",
     "output_type": "stream",
     "text": [
      "date\n",
      "2013-03-08    102.903522\n",
      "Name: dep_delay, dtype: float64\n",
      "date\n",
      "2013-07-10    110.093439\n",
      "Name: arr_delay, dtype: float64\n"
     ]
    }
   ],
   "source": [
    "# Add date column to df, concatenating year/month/day\n",
    "flights_df['date'] = pd.to_datetime(flights_df['year'] * 10000 + flights_df['month'] * 100 + flights_df['day'], format='%Y%m%d')\n",
    "\n",
    "# Filter for flights with a positive departure delay\n",
    "dep_delay_flights = flights_df[flights_df['dep_delay'] > 0]\n",
    "\n",
    "# Group dataframe by date\n",
    "dep_group_flights = dep_delay_flights.groupby('date').mean()\n",
    "\n",
    "# Order dataframe so max dep_delay is at top\n",
    "dep_delay_avg = dep_group_flights.sort_values('dep_delay', ascending = 0)\n",
    "\n",
    "# Pull out the date and max delay value\n",
    "del_day = dep_delay_avg['dep_delay'].head(1)\n",
    "\n",
    "# Print the date and max avg delay in minutes\n",
    "print del_day\n",
    "\n",
    "# Repeat above steps for arrivals\n",
    "# Filter for flights with a positive arrival delay\n",
    "arr_delay_flights = flights_df[flights_df['arr_delay'] > 0]\n",
    "\n",
    "# Group dataframe by date\n",
    "arr_group_flights = arr_delay_flights.groupby('date').mean()\n",
    "\n",
    "# Order dataframe so max arr_delay is at top\n",
    "arr_delay_avg = arr_group_flights.sort_values('arr_delay', ascending = 0)\n",
    "\n",
    "# Pull out the date and max delay value\n",
    "arr_day = arr_delay_avg['arr_delay'].head(1)\n",
    "\n",
    "# Print the date and max avg delay in minutes\n",
    "print arr_day\n",
    "\n",
    "\n"
   ]
  },
  {
   "cell_type": "markdown",
   "metadata": {},
   "source": [
    "The day with the higest average departure delay in 2013 was March 8, with 102.9 minutes. The highest average arrival delay occurred on July 10 (110.1 minutes). Early departures and arrivals (i.e. negative arr_delay and dep_delay values) were not considered in this analysis, as the question was interpreted to mean positively delayed flights."
   ]
  },
  {
   "cell_type": "markdown",
   "metadata": {},
   "source": [
    "(b) What was the worst day to fly out of NYC in 2013 if you dislike delayed flights?\n"
   ]
  },
  {
   "cell_type": "code",
   "execution_count": 12,
   "metadata": {
    "collapsed": false
   },
   "outputs": [
    {
     "name": "stdout",
     "output_type": "stream",
     "text": [
      "date\n",
      "2013-12-23    674\n",
      "2013-03-08    653\n",
      "2013-07-01    652\n",
      "Name: dep_delay, dtype: int64\n"
     ]
    }
   ],
   "source": [
    "# using dep_delay_flights from before, group by date and aggregate by count\n",
    "count_del_flights = dep_delay_flights.groupby('date').count()\n",
    "\n",
    "# Order df by dep_delay, desc\n",
    "del_count = count_del_flights.sort_values('dep_delay', ascending = 0)\n",
    "\n",
    "# Extract column of interest\n",
    "worst_days = del_count['dep_delay']\n",
    "\n",
    "# Return results\n",
    "print worst_days.head(3)"
   ]
  },
  {
   "cell_type": "markdown",
   "metadata": {},
   "source": [
    "The \"worst day for delays\" could take a couple different meanings: one, it could refer to the day with the highest average delays in minutes, which was March 8 (102.9 minutes delayed). Two, it could refer to the day with the highest number of delays, which was December 23 (674 delayed flights). I consider March 8th the \"worst\" day overall, because it had the highest average delay and the second highest number of delays, making the likelihood of delay great and the length of delay frustrating."
   ]
  },
  {
   "cell_type": "markdown",
   "metadata": {},
   "source": [
    "(c) Are there any seasonal patterns in departure delays for flights from NYC?"
   ]
  },
  {
   "cell_type": "code",
   "execution_count": 13,
   "metadata": {
    "collapsed": false
   },
   "outputs": [
    {
     "name": "stdout",
     "output_type": "stream",
     "text": [
      "      dep_delay           \n",
      "          count       mean\n",
      "month                     \n",
      "1          9662  35.335334\n",
      "2          9124  35.299540\n",
      "3         11209  39.616380\n",
      "4         10543  44.185241\n",
      "5         11291  39.245151\n",
      "6         12655  49.790913\n",
      "7         13909  48.807822\n",
      "8         11713  37.274311\n",
      "9          7815  35.676775\n",
      "10         8722  31.560651\n",
      "11         8239  28.707246\n",
      "12        13550  37.203469\n"
     ]
    }
   ],
   "source": [
    "# Group the dep_delay_flights dataframe from above by month\n",
    "month_del = dep_delay_flights.groupby('month')\n",
    "\n",
    "# Apply count and mean to the dep_delay column\n",
    "print month_del.agg({'dep_delay': ['count', 'mean']})"
   ]
  },
  {
   "cell_type": "markdown",
   "metadata": {},
   "source": [
    "The data shows a seasonality to delays, both in the number and severity. The number of delays peaks in months 6, 7, and 12 (June, July, and December). This makes intuitive sense with high-travel times commonly being in the summer and around Christmas. The longest average delays occur in April, June, and July. The \"best\" time to travel with a lower risk of delay appears to be August, which has the lowest number of delays and the lowest average delay length. "
   ]
  },
  {
   "cell_type": "markdown",
   "metadata": {},
   "source": [
    "(d) On average, how do departure delays vary over the course of a day?"
   ]
  },
  {
   "cell_type": "code",
   "execution_count": 14,
   "metadata": {
    "collapsed": false
   },
   "outputs": [
    {
     "name": "stdout",
     "output_type": "stream",
     "text": [
      "     dep_delay            \n",
      "         count        mean\n",
      "hour                      \n",
      "0          881  128.642452\n",
      "1          223  207.049327\n",
      "2           64  239.921875\n",
      "3           11  304.727273\n",
      "5          368    6.592391\n",
      "6         4126   11.272904\n",
      "7         4455   17.932435\n",
      "8         6190   19.484653\n",
      "9         5508   26.300290\n",
      "10        5009   27.960072\n",
      "11        4813   31.883025\n",
      "12        5668   29.784933\n",
      "13        7061   28.628948\n",
      "14        7555   29.296095\n",
      "15       10568   27.906983\n",
      "16       10653   33.224913\n",
      "17       11558   35.912961\n",
      "18       10413   43.505234\n",
      "19       10595   44.520623\n",
      "20        9077   54.294921\n",
      "21        7444   64.210371\n",
      "22        4118   92.465274\n",
      "23        2045  125.344743\n",
      "24          29   64.862069\n"
     ]
    }
   ],
   "source": [
    "# Group the dep_delay_flights dataframe from above by hour\n",
    "month_del = dep_delay_flights.groupby('hour')\n",
    "\n",
    "# Apply count and mean to the dep_delay column\n",
    "print month_del.agg({'dep_delay': ['count', 'mean']})\n"
   ]
  },
  {
   "cell_type": "markdown",
   "metadata": {},
   "source": [
    "Flight delays appear to follow a pattern throughout the day. Beginning at 5 AM, delays continue to increase in number and severity in a fairly even fashion until 7 PM, and then decrease until midnight before seeing a small increase during the early morning hours. There is perhaps a cumulative effect during normal \"workday hours\", when flight traffic is heaviest. Delays early on may have compounding effects on subsequent flights."
   ]
  },
  {
   "cell_type": "markdown",
   "metadata": {},
   "source": [
    "## Question 3\n",
    "    Which flight departing NYC in 2013 flew the fastest?"
   ]
  },
  {
   "cell_type": "code",
   "execution_count": 15,
   "metadata": {
    "collapsed": false
   },
   "outputs": [
    {
     "name": "stdout",
     "output_type": "stream",
     "text": [
      "        Unnamed: 0  year  month  day  dep_time  dep_delay  arr_time  \\\n",
      "216447      216448  2013      5   25      1709          9      1923   \n",
      "251999      252000  2013      7    2      1558         45      1745   \n",
      "205388      205389  2013      5   13      2040         15      2225   \n",
      "157516      157517  2013      3   23      1914          4      2045   \n",
      "10223        10224  2013      1   12      1559         -1      1849   \n",
      "70640        70641  2013     11   17       650         -5      1059   \n",
      "129835      129836  2013      2   21      2355         -3       412   \n",
      "70704        70705  2013     11   17       759         -1      1212   \n",
      "71314        71315  2013     11   17      1926          1         7   \n",
      "119510      119511  2013      2   10      1658         -2      2125   \n",
      "\n",
      "        arr_delay carrier tailnum  flight origin dest  air_time  distance  \\\n",
      "216447        -14      DL  N666DN    1499    LGA  ATL        65       762   \n",
      "251999         26      EV  N17196    4667    EWR  MSP        93      1008   \n",
      "205388         -1      EV  N14568    4292    EWR  GSP        55       594   \n",
      "157516          2      EV  N12567    3805    EWR  BNA        70       748   \n",
      "10223         -28      DL  N956DL    1902    LGA  PBI       105      1035   \n",
      "70640         -51      DL   N3768     315    JFK  SJU       170      1598   \n",
      "129835        -26      B6  N779JB     707    JFK  SJU       172      1598   \n",
      "70704         -43      AA  N5FFAA     936    JFK  STT       175      1623   \n",
      "71314         -32      DL  N382DA     347    JFK  SJU       173      1598   \n",
      "119510        -39      DL  N371DA     329    JFK  SJU       173      1598   \n",
      "\n",
      "        hour  minute       date       speed  \n",
      "216447    17       9 2013-05-25  703.384615  \n",
      "251999    15      58 2013-07-02  650.322581  \n",
      "205388    20      40 2013-05-13  648.000000  \n",
      "157516    19      14 2013-03-23  641.142857  \n",
      "10223     15      59 2013-01-12  591.428571  \n",
      "70640      6      50 2013-11-17  564.000000  \n",
      "129835    23      55 2013-02-21  557.441860  \n",
      "70704      7      59 2013-11-17  556.457143  \n",
      "71314     19      26 2013-11-17  554.219653  \n",
      "119510    16      58 2013-02-10  554.219653  \n"
     ]
    }
   ],
   "source": [
    "# Define a speed value for each row (distance/time)\n",
    "flights_df['speed'] = (flights_df['distance'] / flights_df['air_time']) * 60\n",
    "\n",
    "# Sort to see the flights with the highest speed values\n",
    "speed_flights = flights_df.sort_values('speed', ascending = 0)\n",
    "print speed_flights.head(10)"
   ]
  },
  {
   "cell_type": "markdown",
   "metadata": {},
   "source": [
    "The flight with the highest reported speed is Delta Airlines flight N666DN (a Boeing 757) from LaGuardia to Atlanta on May 25th. This flight recorded a speed of 703 mph! This is faster than the reported top speed of the Boeing 757 (609 mph, according to Boeing). Such feats may be made possible by the assistance of strong tailwinds, which can boost a plane's over-the-ground speed."
   ]
  },
  {
   "cell_type": "markdown",
   "metadata": {},
   "source": [
    "## Question 4\n",
    "Which flights (i.e. carrier + flight + dest) happen every day? Where do they fly to?"
   ]
  },
  {
   "cell_type": "code",
   "execution_count": 16,
   "metadata": {
    "collapsed": false
   },
   "outputs": [
    {
     "name": "stdout",
     "output_type": "stream",
     "text": [
      "('AA', 59, 'SFO')\n",
      "('AA', 119, 'LAX')\n",
      "('AA', 181, 'LAX')\n",
      "('AA', 1357, 'SJU')\n",
      "('AA', 1611, 'MIA')\n",
      "('B6', 219, 'CLT')\n",
      "('B6', 359, 'BUR')\n",
      "('B6', 371, 'FLL')\n",
      "('B6', 431, 'SRQ')\n",
      "('B6', 703, 'SJU')\n",
      "('B6', 1783, 'MCO')\n",
      "('DL', 2159, 'MCO')\n",
      "('DL', 2391, 'TPA')\n",
      "('EV', 5712, 'IAD')\n",
      "('UA', 15, 'HNL')\n",
      "('VX', 251, 'LAS')\n",
      "('VX', 407, 'LAX')\n",
      "('VX', 413, 'LAX')\n"
     ]
    }
   ],
   "source": [
    "# group by carrier, flight, dest, then print the combinations that there are 365 instances of (assuming 1/day)\n",
    "for key, group in flights_df.groupby(['carrier', 'flight', 'dest']):\n",
    "    if len(group) == 365:\n",
    "        print key"
   ]
  },
  {
   "cell_type": "markdown",
   "metadata": {},
   "source": [
    "There are 18 daily flights out of NYC: American Airlines has 5 fligts that service San Francisco, Los Angeles, San Juan (Puerto Rico), and Miami. Jet Blue operates 6 flights, serving Charlotte, Burbank, Fort Lauderdale, Sarasota, San Juan, and Orlando. Delta flies daily to Orlando and Tampa. ExpressJet services Washington, DC. United services Honolulu. And Virgin America flies daily to Las Vegas and Los Angeles."
   ]
  },
  {
   "cell_type": "markdown",
   "metadata": {},
   "source": [
    "## Question 5\n",
    "Develop one research question you can address using the nycflights2013 dataset. Provide two visualizations to support your exploration of this question. Discuss what you find.\n"
   ]
  },
  {
   "cell_type": "code",
   "execution_count": 17,
   "metadata": {
    "collapsed": false
   },
   "outputs": [],
   "source": [
    "## Question: Which of the NYC airports is used most for long-distance flights? What about commuter flights?"
   ]
  },
  {
   "cell_type": "code",
   "execution_count": 19,
   "metadata": {
    "collapsed": false
   },
   "outputs": [
    {
     "name": "stdout",
     "output_type": "stream",
     "text": [
      "origin\n",
      "EWR    1056.742790\n",
      "JFK    1266.249077\n",
      "LGA     779.835671\n",
      "Name: distance, dtype: float64\n"
     ]
    },
    {
     "data": {
      "text/plain": [
       "<matplotlib.text.Text at 0x10f10f310>"
      ]
     },
     "execution_count": 19,
     "metadata": {},
     "output_type": "execute_result"
    },
    {
     "data": {
      "image/png": "[encoded data removed]",
      "text/plain": [
       "<matplotlib.figure.Figure at 0x10f451cd0>"
      ]
     },
     "metadata": {},
     "output_type": "display_data"
    }
   ],
   "source": [
    "# Group flights_df and apply mean function\n",
    "flight_dist = flights_df.groupby('origin').mean()\n",
    "\n",
    "print flight_dist['distance']\n",
    "\n",
    "# Plot a simple bar chart to see difference in average distance flown from each of the originating airports\n",
    "flight_dist.distance.plot(kind = 'bar')\n",
    "plt.xlabel('Originating Airport')\n",
    "plt.ylabel('Mean Flight Distance')\n",
    "plt.title(r'Average Flight Distance from NYC')\n"
   ]
  },
  {
   "cell_type": "code",
   "execution_count": 20,
   "metadata": {
    "collapsed": false,
    "scrolled": true
   },
   "outputs": [
    {
     "data": {
      "text/plain": [
       "<matplotlib.legend.Legend at 0x10f170390>"
      ]
     },
     "execution_count": 20,
     "metadata": {},
     "output_type": "execute_result"
    },
    {
     "data": {
      "image/png": "[encoded data removed]",
      "text/plain": [
       "<matplotlib.figure.Figure at 0x10ad457d0>"
      ]
     },
     "metadata": {},
     "output_type": "display_data"
    }
   ],
   "source": [
    "# Create a series containing distance for each of the origin airports by filtering on origin\n",
    "\n",
    "flights_EWR = flights_df['distance'][flights_df['origin']== 'EWR']\n",
    "flights_JFK = flights_df['distance'][flights_df['origin']== 'JFK']\n",
    "flights_LGA = flights_df['distance'][flights_df['origin']== 'LGA']\n",
    "\n",
    "# Plot a histogram for each of the above series, and overlay on same plot to see comparison\n",
    "plt.hist(flights_EWR.values, 50, alpha=0.5, label='EWR')\n",
    "\n",
    "plt.hist(flights_JFK.values, 50, alpha=0.5, label='JFK')\n",
    "\n",
    "plt.hist(flights_LGA.values, 50, alpha=0.5, label='LGA')\n",
    "\n",
    "# Add labels for clarity\n",
    "plt.xlabel('Flight Distance')\n",
    "plt.ylabel('Count')\n",
    "plt.title(r'Histogram Flights Departing NYC')\n",
    "plt.legend(loc='upper right')\n"
   ]
  },
  {
   "cell_type": "markdown",
   "metadata": {},
   "source": [
    "It appears that each airport has a unique flight distance profile. Newark services a wide range of distances, from 100 to > 2500 miles. There is a bimodal distribution, with a cluster of flights around ~750 miles and ~2500 miles. JFK has a similar spread, but with significantly more flights clustered around ~2600 miles. LaGuardia appears to have a more even distribution around ~ 750 miles, with no clustering above 2000 miles. This suggests that JFK is used the most for long range flights. All 3 airports have significant traffic in the < 1000 mile range. LaGuardia has the lowest average flight distance."
   ]
  },
  {
   "cell_type": "markdown",
   "metadata": {},
   "source": [
    "## Question 6\n",
    "What weather conditions are associated with flight delays leaving NYC? Use graphics to explore."
   ]
  },
  {
   "cell_type": "code",
   "execution_count": 21,
   "metadata": {
    "collapsed": false
   },
   "outputs": [
    {
     "name": "stdout",
     "output_type": "stream",
     "text": [
      "Unnamed: 0      int64\n",
      "origin         object\n",
      "year            int64\n",
      "month         float64\n",
      "day           float64\n",
      "hour          float64\n",
      "temp          float64\n",
      "dewp          float64\n",
      "humid         float64\n",
      "wind_dir      float64\n",
      "wind_speed    float64\n",
      "wind_gust     float64\n",
      "precip        float64\n",
      "pressure      float64\n",
      "visib         float64\n",
      "dtype: object\n",
      "      Unnamed: 0 origin  year  month  day  hour   temp   dewp  humid  \\\n",
      "1630        1631    EWR  2013    NaN  NaN   NaN  44.96  17.96  33.55   \n",
      "\n",
      "      wind_dir  wind_speed  wind_gust  precip  pressure  visib  \n",
      "1630        20     3.45234   3.972884       0    1025.9     10  \n",
      "Empty DataFrame\n",
      "Columns: [Unnamed: 0, origin, year, month, day, hour, temp, dewp, humid, wind_dir, wind_speed, wind_gust, precip, pressure, visib]\n",
      "Index: []\n"
     ]
    }
   ],
   "source": [
    "# Used weather dataset from R package \"nycflights13\". Assumes file \"weather.csv\" is in working dir.\n",
    "# Reference: https://cran.r-project.org/web/packages/nycflights13/index.html\n",
    "\n",
    "# Load weather data into df\n",
    "weather_df = pd.read_csv('weather.csv')\n",
    "\n",
    "# View dataset datatypes\n",
    "print weather_df.dtypes\n",
    "\n",
    "# Look for missing date records\n",
    "print weather_df[np.isnan(weather_df['month'])]\n",
    "\n",
    "# Remove missing date records so we can create datetime column \n",
    "for col in ['year', 'month', 'day']:\n",
    "    weather_df = weather_df[weather_df[col].notnull()]\n",
    "\n",
    "# Check to see if NaNs remain\n",
    "print weather_df[np.isnan(weather_df['month'])]\n",
    "\n",
    "# Create date column to join with flights_df date column\n",
    "\n",
    "weather_df['date'] = pd.to_datetime(weather_df['year'] * 10000 + weather_df['month'].astype(int) * 100 + weather_df['day'].astype(int), format = '%Y%m%d')\n",
    "\n",
    "# Merge flights_df and weather_df datasets for analysis. Use 'date' and 'hour' fields as keys\n",
    "flight_weather = pd.merge(flights_df[flights_df['dep_delay'] > 0], weather_df, how='inner', on=['date', 'hour'])\n",
    "\n"
   ]
  },
  {
   "cell_type": "code",
   "execution_count": 23,
   "metadata": {
    "collapsed": false
   },
   "outputs": [
    {
     "data": {
      "text/plain": [
       "count    128017.000000\n",
       "mean          9.920069\n",
       "std           5.492763\n",
       "min           0.000000\n",
       "25%           5.753900\n",
       "50%           9.206240\n",
       "75%          12.658580\n",
       "max          39.126520\n",
       "Name: wind_speed, dtype: float64"
      ]
     },
     "execution_count": 23,
     "metadata": {},
     "output_type": "execute_result"
    }
   ],
   "source": [
    "# Look at wind_speed variable\n",
    "flight_weather.wind_speed.describe()\n",
    "\n",
    "# Eliminate high outlier record\n",
    "flight_weather = flight_weather[flight_weather.wind_speed != flight_weather.wind_speed.max()]\n",
    "\n",
    "# Re-check wind_speed variable \n",
    "flight_weather.wind_speed.describe()"
   ]
  },
  {
   "cell_type": "code",
   "execution_count": 27,
   "metadata": {
    "collapsed": false
   },
   "outputs": [
    {
     "name": "stdout",
     "output_type": "stream",
     "text": [
      "                            OLS Regression Results                            \n",
      "==============================================================================\n",
      "Dep. Variable:              dep_delay   R-squared:                       0.894\n",
      "Model:                            OLS   Adj. R-squared:                  0.893\n",
      "Method:                 Least Squares   F-statistic:                     752.2\n",
      "Date:                Tue, 12 Jan 2016   Prob (F-statistic):           3.47e-45\n",
      "Time:                        23:17:08   Log-Likelihood:                -359.49\n",
      "No. Observations:                  90   AIC:                             721.0\n",
      "Df Residuals:                      89   BIC:                             723.5\n",
      "Df Model:                           1                                         \n",
      "Covariance Type:            nonrobust                                         \n",
      "==============================================================================\n",
      "                 coef    std err          t      P>|t|      [95.0% Conf. Int.]\n",
      "------------------------------------------------------------------------------\n",
      "x1             0.6232      0.023     27.426      0.000         0.578     0.668\n",
      "==============================================================================\n",
      "Omnibus:                        4.799   Durbin-Watson:                   0.354\n",
      "Prob(Omnibus):                  0.091   Jarque-Bera (JB):                4.516\n",
      "Skew:                           0.344   Prob(JB):                        0.105\n",
      "Kurtosis:                       3.855   Cond. No.                         1.00\n",
      "==============================================================================\n",
      "\n",
      "Warnings:\n",
      "[1] Standard Errors assume that the covariance matrix of the errors is correctly specified.\n"
     ]
    },
    {
     "data": {
      "image/png": "[encoded data removed]",
      "text/plain": [
       "<matplotlib.figure.Figure at 0x11e2ac190>"
      ]
     },
     "metadata": {},
     "output_type": "display_data"
    },
    {
     "name": "stdout",
     "output_type": "stream",
     "text": [
      "                            OLS Regression Results                            \n",
      "==============================================================================\n",
      "Dep. Variable:              dep_delay   R-squared:                       0.823\n",
      "Model:                            OLS   Adj. R-squared:                  0.817\n",
      "Method:                 Least Squares   F-statistic:                     134.9\n",
      "Date:                Tue, 12 Jan 2016   Prob (F-statistic):           2.00e-12\n",
      "Time:                        23:17:08   Log-Likelihood:                -130.40\n",
      "No. Observations:                  30   AIC:                             262.8\n",
      "Df Residuals:                      29   BIC:                             264.2\n",
      "Df Model:                           1                                         \n",
      "Covariance Type:            nonrobust                                         \n",
      "==============================================================================\n",
      "                 coef    std err          t      P>|t|      [95.0% Conf. Int.]\n",
      "------------------------------------------------------------------------------\n",
      "x1             1.8624      0.160     11.614      0.000         1.534     2.190\n",
      "==============================================================================\n",
      "Omnibus:                        1.825   Durbin-Watson:                   0.788\n",
      "Prob(Omnibus):                  0.401   Jarque-Bera (JB):                1.670\n",
      "Skew:                          -0.505   Prob(JB):                        0.434\n",
      "Kurtosis:                       2.438   Cond. No.                         1.00\n",
      "==============================================================================\n",
      "\n",
      "Warnings:\n",
      "[1] Standard Errors assume that the covariance matrix of the errors is correctly specified.\n"
     ]
    },
    {
     "data": {
      "image/png": "[encoded data removed]",
      "text/plain": [
       "<matplotlib.figure.Figure at 0x105d571d0>"
      ]
     },
     "metadata": {},
     "output_type": "display_data"
    },
    {
     "name": "stdout",
     "output_type": "stream",
     "text": [
      "                            OLS Regression Results                            \n",
      "==============================================================================\n",
      "Dep. Variable:              dep_delay   R-squared:                       0.359\n",
      "Model:                            OLS   Adj. R-squared:                  0.338\n",
      "Method:                 Least Squares   F-statistic:                     17.34\n",
      "Date:                Tue, 12 Jan 2016   Prob (F-statistic):           0.000231\n",
      "Time:                        23:17:08   Log-Likelihood:                -178.35\n",
      "No. Observations:                  32   AIC:                             358.7\n",
      "Df Residuals:                      31   BIC:                             360.2\n",
      "Df Model:                           1                                         \n",
      "Covariance Type:            nonrobust                                         \n",
      "==============================================================================\n",
      "                 coef    std err          t      P>|t|      [95.0% Conf. Int.]\n",
      "------------------------------------------------------------------------------\n",
      "x1           168.2201     40.392      4.165      0.000        85.840   250.600\n",
      "==============================================================================\n",
      "Omnibus:                       38.972   Durbin-Watson:                   1.028\n",
      "Prob(Omnibus):                  0.000   Jarque-Bera (JB):              172.302\n",
      "Skew:                           2.381   Prob(JB):                     3.85e-38\n",
      "Kurtosis:                      13.323   Cond. No.                         1.00\n",
      "==============================================================================\n",
      "\n",
      "Warnings:\n",
      "[1] Standard Errors assume that the covariance matrix of the errors is correctly specified.\n"
     ]
    },
    {
     "data": {
      "image/png": "[encoded data removed]",
      "text/plain": [
       "<matplotlib.figure.Figure at 0x11e396750>"
      ]
     },
     "metadata": {},
     "output_type": "display_data"
    },
    {
     "name": "stdout",
     "output_type": "stream",
     "text": [
      "                            OLS Regression Results                            \n",
      "==============================================================================\n",
      "Dep. Variable:              dep_delay   R-squared:                       0.398\n",
      "Model:                            OLS   Adj. R-squared:                  0.362\n",
      "Method:                 Least Squares   F-statistic:                     11.22\n",
      "Date:                Tue, 12 Jan 2016   Prob (F-statistic):            0.00380\n",
      "Time:                        23:17:08   Log-Likelihood:                -94.160\n",
      "No. Observations:                  18   AIC:                             190.3\n",
      "Df Residuals:                      17   BIC:                             191.2\n",
      "Df Model:                           1                                         \n",
      "Covariance Type:            nonrobust                                         \n",
      "==============================================================================\n",
      "                 coef    std err          t      P>|t|      [95.0% Conf. Int.]\n",
      "------------------------------------------------------------------------------\n",
      "x1             7.8086      2.331      3.350      0.004         2.891    12.726\n",
      "==============================================================================\n",
      "Omnibus:                        0.744   Durbin-Watson:                   0.188\n",
      "Prob(Omnibus):                  0.689   Jarque-Bera (JB):                0.722\n",
      "Skew:                          -0.247   Prob(JB):                        0.697\n",
      "Kurtosis:                       2.152   Cond. No.                         1.00\n",
      "==============================================================================\n",
      "\n",
      "Warnings:\n",
      "[1] Standard Errors assume that the covariance matrix of the errors is correctly specified.\n"
     ]
    },
    {
     "name": "stderr",
     "output_type": "stream",
     "text": [
      "/Users/Brett/anaconda/lib/python2.7/site-packages/scipy/stats/stats.py:1277: UserWarning: kurtosistest only valid for n>=20 ... continuing anyway, n=18\n",
      "  \"anyway, n=%i\" % int(n))\n"
     ]
    },
    {
     "data": {
      "image/png": "[encoded data removed]",
      "text/plain": [
       "<matplotlib.figure.Figure at 0x12185f850>"
      ]
     },
     "metadata": {},
     "output_type": "display_data"
    }
   ],
   "source": [
    "# Round temp and wind_speed values so we can group on them\n",
    "flight_weather.temp = np.round(flight_weather.temp, 0)\n",
    "flight_weather.wind_speed = np.round(flight_weather.wind_speed, 0)\n",
    "\n",
    "# For each of 4 variables of interest (temp, wind speed, precip, visib):\n",
    "# group by the variable, average the dep_delay, run a OLS regression, scatterplot the results\n",
    "\n",
    "for i in ['temp', 'wind_speed', 'precip', 'visib']:\n",
    "    y = flight_weather.groupby(i)['dep_delay'].mean()\n",
    "    x = y.index\n",
    "    results = sm.OLS(y, x).fit()\n",
    "    print results.summary()\n",
    "    plt.figure()\n",
    "    plt.plot(x,y,'bo')\n",
    "    plt.show()"
   ]
  },
  {
   "cell_type": "markdown",
   "metadata": {},
   "source": [
    "Weather appears to have an effect on the average length of flight delays. Looking at each of Temperature, Wind Speed, Precipitation, and Visibility (the four weather measurements I selected as most interesting to analyze), we see some  relationships. Temperature has a strong relationship with departure delay length, evidenced by a visible linear pattern and a high R-squared value. In this simple linear model, temp explains 89% of the variation in dep_delay. Interestingly, the relationship is positive - higher temperature correlates with higher average delays. This is somewhat surprising, as this analyst would have expected cold temperatures to produce long delays. Wind_speed also appears to have an effect on delay length, though the pattern is not as strong. The R-squared is .79. Precipitation does not appear to be strongly related to departure delay. Visibility shows a relationship with departure delay. As expected, very low visibilities are associated with higher departure delays. For visibility >= 3 miles, there does not appear to be a significant effect on departure delay, as the line is relatively flat."
   ]
  }
 ],
 "metadata": {
  "kernelspec": {
   "display_name": "Python 2",
   "language": "python",
   "name": "python2"
  },
  "language_info": {
   "codemirror_mode": {
    "name": "ipython",
    "version": 2
   },
   "file_extension": ".py",
   "mimetype": "text/x-python",
   "name": "python",
   "nbconvert_exporter": "python",
   "pygments_lexer": "ipython2",
   "version": "2.7.11"
  }
 },
 "nbformat": 4,
 "nbformat_minor": 0
}
