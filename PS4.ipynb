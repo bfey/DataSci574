{
 "cells": [
  {
   "cell_type": "markdown",
   "metadata": {},
   "source": [
    "# Problem Set 4, due February 23 at 11:59am, mid-day, noon.\n",
    "\n",
    "### Before You Start\n",
    "\n",
    "This is a fun but challenging problem set. It will test your python skills, as well as your understanding of the material in class and in the readings. Start early and debug often! Some notes:\n",
    "\n",
    "* Part 1 is meant to be easy, so get through it quickly.\n",
    "* Part 2 (especially 2.1) will be difficult, but it is the lynchpin of this problem set to make sure to do it well and understand what you've done. If you find your gradient descent algorithm is taking more than a few minutes to complete, debug more, compare notes with others, and go to the TA sessions.\n",
    "* Depending on how well you've done 2.1, parts 2.3 and 4.3 will be relatively painless or incredibly painful. \n",
    "* Part 4 (especially 3.3) will be computationally intensive. Don't leave this until the last minute, otherwise your code might be running when the deadline arrives.\n",
    "* Do the extra credit problems last."
   ]
  },
  {
   "cell_type": "markdown",
   "metadata": {},
   "source": [
    "---\n",
    "\n",
    "## Introduction to the assignment\n",
    "\n",
    "As with the last assignment, you will be using the [Boston Housing Prices Data Set](http://archive.ics.uci.edu/ml/datasets/Housing)."
   ]
  },
  {
   "cell_type": "code",
   "execution_count": 1,
   "metadata": {
    "collapsed": false
   },
   "outputs": [],
   "source": [
    "import IPython\n",
    "import numpy as np\n",
    "import scipy as sp\n",
    "import pandas as pd\n",
    "import matplotlib\n",
    "import sklearn\n",
    "\n",
    "%matplotlib inline  \n",
    "import matplotlib.pyplot as plt  \n",
    "import statsmodels.api as sm\n",
    "from sklearn.linear_model import LinearRegression\n",
    "from sklearn.metrics import mean_squared_error\n",
    "import statsmodels.formula.api as smf\n",
    "import statsmodels.api as sm # for OLS\n",
    "\n",
    "import math # for e constant"
   ]
  },
  {
   "cell_type": "code",
   "execution_count": 2,
   "metadata": {
    "collapsed": true
   },
   "outputs": [],
   "source": [
    "# Initial data load\n",
    "from sklearn.datasets import load_boston\n",
    "bdata = load_boston()"
   ]
  },
  {
   "cell_type": "markdown",
   "metadata": {},
   "source": [
    "---\n",
    "\n",
    "## Part 1: Getting oriented\n",
    "\n",
    "Use different learning rates\n",
    "\n",
    "### 1.1 Use existing libraries\n",
    "\n",
    "Soon, you will write your own gradient descent algorithm, which you will then use to minimize the squared error cost function.  First, however, let's use the canned versions that come with Python, to make sure we understand what we're aiming to achieve.\n",
    "\n",
    "Using the same Boston housing prices dataset, use the [Linear Regression class](http://scikit-learn.org/stable/modules/generated/sklearn.linear_model.LinearRegression.html) from sklearn or the [OLS class](http://wiki.scipy.org/Cookbook/OLS) from SciPy to explore the relationship between  median housing price and number of rooms per house. Do this by first (a) regressing the housing price on the number of rooms per house, and then (b) regressing the housing price on the number of rooms per house and the (number of rooms per house) squared.  Interpret your results."
   ]
  },
  {
   "cell_type": "code",
   "execution_count": 3,
   "metadata": {
    "collapsed": false
   },
   "outputs": [
    {
     "name": "stdout",
     "output_type": "stream",
     "text": [
      "['CRIM' 'ZN' 'INDUS' 'CHAS' 'NOX' 'RM' 'AGE' 'DIS' 'RAD' 'TAX' 'PTRATIO'\n",
      " 'B' 'LSTAT']\n"
     ]
    }
   ],
   "source": [
    "print bdata.feature_names\n"
   ]
  },
  {
   "cell_type": "code",
   "execution_count": 4,
   "metadata": {
    "collapsed": false
   },
   "outputs": [
    {
     "name": "stdout",
     "output_type": "stream",
     "text": [
      "(506, 1) <type 'numpy.ndarray'>\n",
      "(506, 1) <type 'numpy.ndarray'>\n",
      "rm coefficient:  [[ 9.10210898]]\n",
      "intercept:  [-34.67062078]\n",
      "Residual sum of squares: 43.60\n",
      "rm and rm^2 coefficients:  [[-22.64326237   2.47012384]]\n",
      "intercept:  [ 66.05884748]\n",
      "Residual sum of squares: 38.12\n"
     ]
    },
    {
     "name": "stderr",
     "output_type": "stream",
     "text": [
      "/Users/Brett/anaconda/lib/python2.7/site-packages/scipy/linalg/basic.py:884: RuntimeWarning: internal gelsd driver lwork query error, required iwork dimension not returned. This is likely the result of LAPACK bug 0038, fixed in LAPACK 3.2.2 (released July 21, 2010). Falling back to 'gelss' driver.\n",
      "  warnings.warn(mesg, RuntimeWarning)\n"
     ]
    }
   ],
   "source": [
    "# uncomment the following if you want to see a lengthy description of the dataset\n",
    "# print bdata.keys()\n",
    "# print bdata.feature_names\n",
    "# print bdata.data.shape\n",
    "# print bdata.target.shape\n",
    "# print bdata.DESCR\n",
    "\n",
    "\n",
    "# assign x,y for regression\n",
    "y = np.vstack(bdata.target)\n",
    "x = np.vstack(bdata.data[:,5]) # rm\n",
    "\n",
    "# check for nan\n",
    "if any(np.isnan(x)): print  'x has nan value(s)'\n",
    "if any(np.isnan(y)): print 'y has nan value(s)'\n",
    "\n",
    "# check shapes\n",
    "print x.shape, type(x)\n",
    "print y.shape, type(y)\n",
    "\n",
    "# simple linear regression target on rm\n",
    "lm = LinearRegression(fit_intercept=True)\n",
    "lm.fit(x, y)\n",
    "\n",
    "# for use in later questions\n",
    "rm_coeff = lm.coef_[0][0] \n",
    "rm_int = lm.intercept_ \n",
    "\n",
    "print 'rm coefficient: ', lm.coef_\n",
    "print 'intercept: ', lm.intercept_\n",
    "print(\"Residual sum of squares: %.2f\"\n",
    "      % np.mean((lm.predict(x) - y) ** 2))\n",
    "\n",
    "# create rm2 values\n",
    "x2 = x**2\n",
    "x2 = np.concatenate((x, x2), axis=1)\n",
    "# build df to pass rm, rm2 to lm\n",
    "#bdf_rm2 = pd.DataFrame({'rm': bdf.rm, 'rm2': x2})\n",
    "\n",
    "# regression target on rm + rm^2\n",
    "lm.fit(x2, y)\n",
    "\n",
    "print 'rm and rm^2 coefficients: ', lm.coef_\n",
    "print 'intercept: ', lm.intercept_\n",
    "print(\"Residual sum of squares: %.2f\"\n",
    "      % np.mean((lm.predict(x2) - y) ** 2))\n",
    "\n",
    "# for use in later questions\n",
    "sqrm_coeff = lm.coef_[0][0]\n",
    "sqrm2_coeff = lm.coef_[0][1]\n",
    "sqrm_int = lm.intercept_\n"
   ]
  },
  {
   "cell_type": "markdown",
   "metadata": {},
   "source": [
    "In the simple linear regression model of rm on medv, an increase of 1 room corresponds to an increase of $9,102 in median home value. The intercept is negative because it is outside of the data space. (A home with zero rooms is not a home). The squared room model is a bit more difficult to interpret, as it is non-linear. It produces an exponentially increasing slope after about 5 rooms. The squared model does fit the data better, with a lower RSS (38.12 vs 43.60). This may be overfit, as the model was fit on the entire set."
   ]
  },
  {
   "cell_type": "markdown",
   "metadata": {},
   "source": [
    "### 1.2 Training and testing\n",
    "\n",
    "Chances are, for the above problem you used all of your data to fit the regression line. In some circumstances this is a reasonable thing to do, but often this will result in overfitting. Let's redo the above results the ML way, using careful cross-validation.  Since you are now experts in cross-validation, and have written your own cross-validation algorithm from scratch, you can now take a shortcut and use the libraries that others have built for you.\n",
    "\n",
    "Using the [cross-validation functions](http://scikit-learn.org/stable/modules/cross_validation.html) from scikit-learn, use 250-fold cross-validation to fit regression (a) above, i.e. the linear fit of housing price on number of rooms per house. Each fold of cross-validation will give you one slope coefficient and one intercept coefficient.  Plot the distribution of the 250 slope coefficients using a histogram with 25 bins, then draw a vertical line at the value of the slope coefficient that you estimated in 1.1 using the full dataset.  What do you notice?"
   ]
  },
  {
   "cell_type": "code",
   "execution_count": 5,
   "metadata": {
    "collapsed": false
   },
   "outputs": [
    {
     "data": {
      "text/plain": [
       "<matplotlib.lines.Line2D at 0x10cdd8d90>"
      ]
     },
     "execution_count": 5,
     "metadata": {},
     "output_type": "execute_result"
    },
    {
     "data": {
      "image/png": "[encoded data removed]",
      "text/plain": [
       "<matplotlib.figure.Figure at 0x10cdf5790>"
      ]
     },
     "metadata": {},
     "output_type": "display_data"
    }
   ],
   "source": [
    "from sklearn.cross_validation import KFold\n",
    "\n",
    "# initialize variables\n",
    "kf = KFold(len(x), n_folds=250)\n",
    "slopes = []\n",
    "intercepts = []\n",
    "\n",
    "# fit linear regression across k folds\n",
    "for train_ix, test_ix in kf:\n",
    "    x = np.vstack(bdata.data[train_ix,5])\n",
    "    y = np.vstack(bdata.target[train_ix])\n",
    "    lm.fit(x, y)\n",
    "    slopes.append(lm.coef_[0][0])\n",
    "    \n",
    "# plot the histogram  \n",
    "plt.hist(slopes, 25)\n",
    "# remove right and top borders\n",
    "plt.gca().spines['right'].set_visible(False)\n",
    "plt.gca().spines['top'].set_visible(False)\n",
    "plt.tick_params(\n",
    "    axis='both',     # changes apply to the x-axis\n",
    "    which='both',    # both major and minor ticks are affected\n",
    "    bottom='on',    # ticks along the bottom edge are on\n",
    "    top='off',  # ticks along the top edge are off\n",
    "    right = 'off',  # ticks along the right edge are off\n",
    "    labelbottom='on')  # labels along the bottom edge are off\n",
    "\n",
    "# apply labels\n",
    "plt.gca().set_xlabel('Slope Coefficient')\n",
    "plt.gca().set_ylabel('Count')\n",
    "plt.gca().set_title('Histogram of Slope Coefficients over 250 Folds')\n",
    "\n",
    "# add vertical line\n",
    "plt.axvline(x=rm_coeff, linewidth=2, color='red')\n"
   ]
  },
  {
   "cell_type": "markdown",
   "metadata": {},
   "source": [
    "The distribution of slopes produced by cross validation is fairly narrow, and seems to agree with the slope produced by regressing the whole dataset."
   ]
  },
  {
   "cell_type": "markdown",
   "metadata": {},
   "source": [
    "### 1.3 Regression lines\n",
    "\n",
    "Create a scatterplot of housing price on rooms per house, and add the two regression lines from 1.1 (or 1.2 if you prefer to do so). Show the linear regression line in red, and the linear+quadratic regression line (which may have curvature) in blue.  Label these two regression lines with the corresponding regression equations (i.e. the slope and intercept of the line).\n",
    "\n",
    "Bonus: Add the 95% confidence bands (i.e.,  the area that has a 95% chance of containing the true regression line) to each of these lines."
   ]
  },
  {
   "cell_type": "markdown",
   "metadata": {},
   "source": [
    "\n"
   ]
  },
  {
   "cell_type": "code",
   "execution_count": 6,
   "metadata": {
    "collapsed": false
   },
   "outputs": [
    {
     "data": {
      "text/plain": [
       "<matplotlib.legend.Legend at 0x10d1cfe10>"
      ]
     },
     "execution_count": 6,
     "metadata": {},
     "output_type": "execute_result"
    },
    {
     "data": {
      "image/png": "[encoded data removed]",
      "text/plain": [
       "<matplotlib.figure.Figure at 0x10d0d7050>"
      ]
     },
     "metadata": {},
     "output_type": "display_data"
    }
   ],
   "source": [
    "# set variables for plot\n",
    "y = np.vstack(bdata.target)\n",
    "x = np.vstack(bdata.data[:,5]) # rm\n",
    "\n",
    "# create scatter plot of price on rooms per house\n",
    "plt.scatter(x, y, color = 'purple')\n",
    "\n",
    "# remove right and top borders\n",
    "plt.gca().spines['right'].set_visible(False)\n",
    "plt.gca().spines['top'].set_visible(False)\n",
    "plt.tick_params(\n",
    "    axis='both',     # changes apply to the x-axis\n",
    "    which='both',    # both major and minor ticks are affected\n",
    "    bottom='on',    # ticks along the bottom edge are on\n",
    "    top='off',  # ticks along the top edge are off\n",
    "    right = 'off',  # ticks along the right edge are off\n",
    "    labelbottom='on')  # labels along the bottom edge are off\n",
    "# set x axis limits\n",
    "plt.gca().set_xlim([2,10])\n",
    "# apply labels\n",
    "plt.gca().set_xlabel('Number of Rooms')\n",
    "plt.gca().set_ylabel('Median Value of Homes (in 1000s of US$)')\n",
    "plt.gca().set_title('Price of Homes by number of rooms')\n",
    "\n",
    "\n",
    "X = np.arange(x.min()-1, x.max()+1)\n",
    "\n",
    "plt.plot(X, X*rm_coeff + rm_int, 'r', label='Linear Regression')\n",
    "plt.plot(X, X**2*sqrm2_coeff + X*sqrm_coeff + sqrm_int, 'b', label = 'Quadratic Regression')\n",
    "plt.legend(loc='lower right')\n",
    "#plt.plot(x, m*x + b, '-')"
   ]
  },
  {
   "cell_type": "markdown",
   "metadata": {},
   "source": [
    "## Part 2: Gradient descent: Linear Regression\n",
    "\n",
    "This is where it gets fun!\n",
    "\n",
    "### 2.1 Implement gradient descent with one independent variable (Average rooms per house)\n",
    "\n",
    "Implement the batch gradient descent algorithm that we discussed in class. Use the version you implement to regress the housing price on the number of rooms per house. Experiment with 3-4 different values of the learning rate *R*, and do the following:\n",
    "\n",
    "* Report the values of alpha and beta that minimize the loss function\n",
    "* Report the number of iterations it takes for your algorithm to converge (for each value of *R*)\n",
    "* Report the total running time of your algorithm, in seconds\n",
    "\n",
    "Some skeleton code is provided below, but you should feel free to delete this code and start from scratch if you prefer.\n",
    "\n",
    "* *Hint 1: Don't forget to implement a stopping condition, so that at every iteration you check whether your results have converged. Common approaches to this are to (a) check to see if the loss has stopped decreasing; and (b) check if both your current parameter esimates are close to the estimates from the previous iteration.  In both cases, \"close\" should not be ==0, it should be <=epsilon, where epsilon is something very small (like 0.0001).*\n",
    "* *Hint 2: Some people like to include a MaxIterations parameter in their gradient descent algorithm, to prevent divergence. *"
   ]
  },
  {
   "cell_type": "code",
   "execution_count": 7,
   "metadata": {
    "collapsed": false
   },
   "outputs": [
    {
     "name": "stdout",
     "output_type": "stream",
     "text": [
      "Time taken: 2.82 seconds\n",
      "For R = 0.01, Intercept: -34.661257, Beta coefficient: 9.100635, Number of iterations: 69043\n",
      "Time taken: 1.36 seconds\n",
      "For R = 0.02, Intercept: -34.661336, Beta coefficient: 9.100647, Number of iterations: 34513\n",
      "Time taken: 0.91 seconds\n",
      "For R = 0.03, Intercept: -34.661453, Beta coefficient: 9.100666, Number of iterations: 22998\n",
      "Time taken: 0.68 seconds\n",
      "For R = 0.04, Intercept: -34.661505, Beta coefficient: 9.100674, Number of iterations: 17220\n",
      "Time taken: 0.59 seconds\n",
      "For R = 0.05, Intercept: inf, Beta coefficient: nan, Number of iterations: 14646\n",
      "Time taken: 0.08 seconds\n",
      "For R = 0.06, Intercept: inf, Beta coefficient: nan, Number of iterations: 1854\n",
      "Time taken: 0.05 seconds\n",
      "For R = 0.07, Intercept: -inf, Beta coefficient: nan, Number of iterations: 1121\n",
      "Time taken: 0.04 seconds\n",
      "For R = 0.08, Intercept: inf, Beta coefficient: nan, Number of iterations: 852\n",
      "Time taken: 0.03 seconds\n",
      "For R = 0.09, Intercept: inf, Beta coefficient: nan, Number of iterations: 710\n"
     ]
    }
   ],
   "source": [
    "import time\n",
    "\n",
    "\"\"\"\n",
    "Function\n",
    "--------\n",
    "bivariate_ols\n",
    "    Gradient Decent to minimize OLS. Used to find co-efficients of bivariate OLS Linear regression\n",
    "\n",
    "Parameters\n",
    "----------\n",
    "xvalues, yvalues : narray\n",
    "    xvalues: independent variable\n",
    "    yvalues: dependent variable\n",
    "    \n",
    "R: float\n",
    "    Learning rate\n",
    "    \n",
    "MaxIterations: Int\n",
    "    maximum number of iterations\n",
    "    \n",
    "\n",
    "Returns\n",
    "-------\n",
    "alpha: float\n",
    "    intercept\n",
    "    \n",
    "beta: float\n",
    "    co-efficient\n",
    "\"\"\"\n",
    "def bivariate_ols(xvalues, yvalues, R=0.01, MaxIterations=1000):\n",
    "    # initialize the parameters\n",
    "    start_time = time.time()\n",
    "    alpha = 0.0\n",
    "    beta = 0.0\n",
    "    M = 0\n",
    "    J_alpha = 0.1\n",
    "    J_beta = 0.1\n",
    "    \n",
    "    # loop until MaxIterations reached, or J-thetas become really small\n",
    "    while M < MaxIterations and (abs(J_alpha) > .0001 or abs(J_beta) > .0001):\n",
    "        \n",
    "        # calculate residual and J-thetas\n",
    "        resid = alpha + beta * xvalues - y\n",
    "        J_alpha = np.mean(resid)\n",
    "        J_beta = np.mean(resid*x)\n",
    "        \n",
    "        # update coefficients\n",
    "        if abs(J_alpha) > .0001:\n",
    "            alpha = alpha - R * J_alpha\n",
    "        if abs(J_beta) > .0001:\n",
    "            beta = beta - R * J_beta\n",
    "        M += 1  \n",
    "\n",
    "    print \"Time taken: \" + str(round(time.time() - start_time,2)) + \" seconds\"\n",
    "    return alpha, beta, M\n",
    "\n",
    "# call function for different values of R\n",
    "for learningrate in range(1,10,1):\n",
    "    intercept, coeff, count = bivariate_ols(x, y, learningrate*.01, 100000)\n",
    "    print 'For R = %.2f, Intercept: %f, Beta coefficient: %f, Number of iterations: %i' \\\n",
    "    % (learningrate*.01, intercept, coeff, count)"
   ]
  },
  {
   "cell_type": "markdown",
   "metadata": {},
   "source": [
    "This gradient descent regression agrees with sklearn's LinearRegression function from above, producing intercept = -34.7 and coefficient = 9.1, though mine took a little longer to compute. The R value can make the funciton converge more quickly with higher values (as seen in R = .01 to .04), but too high a value (R>.04) will cause it to diverge and not return intercept or coefficient values."
   ]
  },
  {
   "cell_type": "markdown",
   "metadata": {},
   "source": [
    "### 2.2 Data normalization (done for you!)\n",
    "\n",
    "Soon, you will implement a version of gradient descent that can use an arbitrary number of independent variables. Before doing this, we want to give you some code in case you want to standardize your features."
   ]
  },
  {
   "cell_type": "code",
   "execution_count": 8,
   "metadata": {
    "collapsed": false
   },
   "outputs": [],
   "source": [
    "def standardize(raw_data):\n",
    "    return ((raw_data - np.mean(raw_data, axis = 0)) / np.std(raw_data, axis = 0))"
   ]
  },
  {
   "cell_type": "markdown",
   "metadata": {},
   "source": [
    "### 2.3 Implement gradient descent with an arbitrary number of independent variables\n",
    "\n",
    "Now that you have a simple version of gradient descent working, create a version of gradient descent that can take more than one independent variable.  Assume all independent variables will be continuous.  Test your algorithm using CRIM and RM as independent variables. Standardize these variables before before inputting them to the gradient descent algorithm. \n",
    "\n",
    "As before,  report and interpret your estimated coefficients, the number of iterations before convergence, and the total running time of your algorithm. Experiment with 2-3 different values of R.\n",
    "\n",
    "* *Hint 1: Be careful to implement this efficiently, otherwise it might take a long time for your code to run. Commands like `np.dot` can be a good friend to you on this problem*"
   ]
  },
  {
   "cell_type": "code",
   "execution_count": 9,
   "metadata": {
    "collapsed": false,
    "scrolled": true
   },
   "outputs": [
    {
     "name": "stdout",
     "output_type": "stream",
     "text": [
      "Time taken: 0.15 seconds\n",
      "For R = 0.01, Intercept: 0.000000, Beta coefficient: array([ 0.6415333 , -0.24473309]), Number of iterations: 1821\n",
      "Time taken: 0.03 seconds\n",
      "For R = 0.04, Intercept: 0.000000, Beta coefficient: array([ 0.6415333 , -0.24473309]), Number of iterations: 451\n",
      "Time taken: 0.02 seconds\n",
      "For R = 0.07, Intercept: 0.000000, Beta coefficient: array([ 0.6415333 , -0.24473309]), Number of iterations: 255\n"
     ]
    }
   ],
   "source": [
    "# initialize and standardize variables for regression\n",
    "y = np.ravel(np.vstack(standardize(bdata.target)))\n",
    "x = np.vstack(standardize(bdata.data[:,5])) # rm\n",
    "c = np.vstack(standardize(bdata.data[:,0])) # crim\n",
    "xvalue_matrix = np.concatenate((x,c), axis = 1)\n",
    "\n",
    "\"\"\"\n",
    "Function\n",
    "--------\n",
    "multivariate_ols\n",
    "    Gradient Decent to minimize OLS. Used to find co-efficients of bivariate OLS Linear regression\n",
    "\n",
    "Parameters\n",
    "----------\n",
    "xvalue_matrix, yvalues : narray\n",
    "    xvalue_matrix: independent variables\n",
    "    yvalues: dependent variable\n",
    "    \n",
    "R: float\n",
    "    Learning rate\n",
    "    \n",
    "MaxIterations: Int\n",
    "    maximum number of iterations\n",
    "    \n",
    "\n",
    "Returns\n",
    "-------\n",
    "alpha: float\n",
    "    intercept\n",
    "    \n",
    "beta_array: array[float]\n",
    "    co-efficient\n",
    "\"\"\"\n",
    "\n",
    "def multivariate_ols(xvalue_matrix, yvalues, R=0.01, MaxIterations=1000):\n",
    "\n",
    "    # initialize the parameters\n",
    "    start_time = time.time()\n",
    "    xvalue_matrix = np.array(xvalue_matrix)\n",
    "    yvalues = np.array(yvalues)\n",
    "    alpha = 0.0\n",
    "    rows, features = xvalue_matrix.shape\n",
    "    betas = np.zeros(features)\n",
    "    M = 0\n",
    "    J_alpha = 0.1\n",
    "    J_betas = np.zeros(features)\n",
    "    limit = .0000001\n",
    "\n",
    "    # loop until MaxIterations reached, or J-thetas become really small\n",
    "    while M < MaxIterations and (abs(J_alpha) > limit or abs(J_betas.max()) > limit):\n",
    "        \n",
    "        # calculate residual and J-thetas\n",
    "        resid = alpha + np.dot(betas, xvalue_matrix.T) - yvalues\n",
    "        J_alpha = np.mean(resid)\n",
    "        J_betas = np.mean(np.multiply(xvalue_matrix.T, resid), axis = 1)\n",
    "\n",
    "        # update coefficients\n",
    "        if abs(J_alpha) > limit:\n",
    "            alpha = alpha - R * J_alpha\n",
    "        if abs(J_betas.max()) > limit:\n",
    "            betas = betas - R * J_betas\n",
    "\n",
    "        M += 1  \n",
    "        \n",
    "    print \"Time taken: \" + str(round(time.time() - start_time,2)) + \" seconds\"\n",
    "    return alpha, betas, M\n",
    "\n",
    "# call function for different values of R\n",
    "for learningrate in range(1,10,3):\n",
    "    intercept, coeff, count = multivariate_ols(xvalue_matrix, y, learningrate*.01, 100000)\n",
    "    print 'For R = %.2f, Intercept: %f, Beta coefficient: %r, Number of iterations: %i' \\\n",
    "    % (learningrate*.01, intercept, coeff, count)\n"
   ]
  },
  {
   "cell_type": "code",
   "execution_count": 10,
   "metadata": {
    "collapsed": false
   },
   "outputs": [
    {
     "name": "stdout",
     "output_type": "stream",
     "text": [
      "                            OLS Regression Results                            \n",
      "==============================================================================\n",
      "Dep. Variable:                      y   R-squared:                       0.541\n",
      "Model:                            OLS   Adj. R-squared:                  0.539\n",
      "Method:                 Least Squares   F-statistic:                     296.4\n",
      "Date:                Sun, 21 Feb 2016   Prob (F-statistic):           7.77e-86\n",
      "Time:                        21:47:52   Log-Likelihood:                -521.23\n",
      "No. Observations:                 506   AIC:                             1046.\n",
      "Df Residuals:                     504   BIC:                             1055.\n",
      "Df Model:                           2                                         \n",
      "Covariance Type:            nonrobust                                         \n",
      "==============================================================================\n",
      "                 coef    std err          t      P>|t|      [95.0% Conf. Int.]\n",
      "------------------------------------------------------------------------------\n",
      "x1             0.6415      0.031     20.727      0.000         0.581     0.702\n",
      "x2            -0.2447      0.031     -7.907      0.000        -0.306    -0.184\n",
      "==============================================================================\n",
      "Omnibus:                      170.471   Durbin-Watson:                   0.805\n",
      "Prob(Omnibus):                  0.000   Jarque-Bera (JB):             1034.461\n",
      "Skew:                           1.331   Prob(JB):                    2.34e-225\n",
      "Kurtosis:                       9.479   Cond. No.                         1.25\n",
      "==============================================================================\n",
      "\n",
      "Warnings:\n",
      "[1] Standard Errors assume that the covariance matrix of the errors is correctly specified.\n"
     ]
    }
   ],
   "source": [
    "# for comparison, regress using sm.OLS\n",
    "lm = sm.OLS(np.array(standardize(y)), np.array(standardize(xvalue_matrix)))\n",
    "results = lm.fit()\n",
    "results.params\n",
    "print results.summary()"
   ]
  },
  {
   "cell_type": "markdown",
   "metadata": {},
   "source": [
    "The standardized multivariate regression resulted in coefficients of .64 and -.24 for rm and crim, respectively. This means that holding the other variable constant, and increase in rm (number of rooms) of 1 standard deviation will correspond with an increase of .64 standard deviations in median value. Conversely an increase in crim (crime rate) of 1 standard deviation will correspond with a decrease of .24 standard deviations in value. Of the 3 R values tested, the greatest (.07) produced the fastest convergence with no loss in accuracy."
   ]
  },
  {
   "cell_type": "markdown",
   "metadata": {},
   "source": [
    "### 2.4 Compare standardized vs. non-standardized results\n",
    "\n",
    "Repeat the analysis from 2.3, but this time do not standardize your variables - i.e., use the original data. Use the same three values of R (0.1, 0.01, and 0.001). What do you notice about the running time and convergence properties of your algorithm?"
   ]
  },
  {
   "cell_type": "code",
   "execution_count": 11,
   "metadata": {
    "collapsed": false
   },
   "outputs": [
    {
     "name": "stdout",
     "output_type": "stream",
     "text": [
      "Non-standardized variables:\n",
      "Time taken: 0.02 seconds\n",
      "For R = 0.100, Intercepts: inf, Beta coefficient: array([ nan,  nan]), Number of iterations: 330\n",
      "Time taken: 7.03 seconds\n",
      "For R = 0.010, Intercepts: -29.301268, Beta coefficient: array([ 8.39746739, -0.26182427]), Number of iterations: 100000\n",
      "Time taken: 7.28 seconds\n",
      "For R = 0.001, Intercepts: -19.554310, Beta coefficient: array([ 6.88254095, -0.29438153]), Number of iterations: 100000\n",
      "Standardized variables:\n",
      "Time taken: 0.01 seconds\n",
      "For R = 0.100, Intercepts: 0.000000, Beta coefficient: array([ 0.64153331, -0.24473308]), Number of iterations: 177\n",
      "Time taken: 0.15 seconds\n",
      "For R = 0.010, Intercepts: 0.000000, Beta coefficient: array([ 0.6415333 , -0.24473309]), Number of iterations: 1821\n",
      "Time taken: 1.39 seconds\n",
      "For R = 0.001, Intercepts: 0.000000, Beta coefficient: array([ 0.6415333 , -0.24473309]), Number of iterations: 18264\n"
     ]
    }
   ],
   "source": [
    "#non-standardized variable intitialization\n",
    "y = np.ravel(np.vstack(bdata.target))\n",
    "x = np.vstack(bdata.data[:,5]) # rm\n",
    "c = np.vstack(bdata.data[:,0]) # crim\n",
    "xvalue_matrix = np.concatenate((x,c), axis = 1)\n",
    "\n",
    "print 'Non-standardized variables:'\n",
    "\n",
    "# run regression, loop for 3 R values\n",
    "for learningrate in ([.1, .01, .001]):\n",
    "    intercept, coeff, count = multivariate_ols(xvalue_matrix, y, learningrate, 100000)\n",
    "    print 'For R = %.3f, Intercepts: %f, Beta coefficient: %r, Number of iterations: %i' \\\n",
    "    % (learningrate, intercept, coeff, count)\n",
    "\n",
    "#standardized variable initialization\n",
    "y = np.ravel(np.vstack(standardize(bdata.target)))\n",
    "x = np.vstack(standardize(bdata.data[:,5])) # rm\n",
    "c = np.vstack(standardize(bdata.data[:,0])) # crim\n",
    "xvalue_matrix = np.concatenate((x,c), axis = 1)\n",
    "\n",
    "print 'Standardized variables:'\n",
    "\n",
    "# run regression, loop for 3 R values\n",
    "for learningrate in ([.1, .01, .001]):\n",
    "    intercept, coeff, count = multivariate_ols(xvalue_matrix, y, learningrate, 100000)\n",
    "    print 'For R = %.3f, Intercepts: %f, Beta coefficient: %r, Number of iterations: %i' \\\n",
    "    % (learningrate, intercept, coeff, count)\n"
   ]
  },
  {
   "cell_type": "markdown",
   "metadata": {},
   "source": [
    "As expected, higher R values lessen the time required to complete the function, however if it is too high, it will not converge (as in the first non-standardized example where R=.1). Standardization dramatically reduces the time required to complete the gradient descent, as it reduces the number iterations necessary to converge."
   ]
  },
  {
   "cell_type": "markdown",
   "metadata": {},
   "source": [
    "## 3. Prediction\n",
    "\n",
    "Let's use our fitted model to make predictions about housing prices. Since the focus is now on prediction rather than the interpretation of the coefficients, it would be wise for you to first standardize your features before proceeding.\n",
    "\n",
    "### 3.1 Cross-Validation\n",
    "\n",
    "Unless you were careful above, you probably overfit your data again. Let's fix that in one of two ways. If you're feeling confident, use k-fold cross-validation to re-fit the multivariate regression from 2.3 above, and report your estimated coefficients (there should be three, corresponding to the intercept and the two coefficients for CRIM and RM). Or if you want to do the quick and dirty version, randomly divide your data into a training set (66%) and testing set (34%) and use the training set to re-fit the regression from 2.3 above. "
   ]
  },
  {
   "cell_type": "code",
   "execution_count": 12,
   "metadata": {
    "collapsed": false
   },
   "outputs": [
    {
     "name": "stdout",
     "output_type": "stream",
     "text": [
      "Time taken: 0.13 seconds\n",
      "Time taken: 0.11 seconds\n",
      "Time taken: 0.12 seconds\n",
      "Time taken: 0.12 seconds\n",
      "Time taken: 0.13 seconds\n",
      "Time taken: 0.13 seconds\n",
      "Time taken: 0.13 seconds\n",
      "Time taken: 0.13 seconds\n",
      "Time taken: 0.12 seconds\n",
      "Time taken: 0.13 seconds\n",
      "-0.00194390874965 [ 0.64074358 -0.24479887]\n"
     ]
    }
   ],
   "source": [
    "# initialize variables (standardized)\n",
    "y = np.ravel(np.vstack(standardize(bdata.target)))\n",
    "x = np.vstack(standardize(bdata.data[:,5])) # rm\n",
    "c = np.vstack(standardize(bdata.data[:,0])) # crim\n",
    "xvalue_matrix = np.concatenate((x,c), axis = 1)\n",
    "\n",
    "\n",
    "# create k indices\n",
    "kf = KFold(len(xvalue_matrix), n_folds=10)\n",
    "\n",
    "# initialize lists to hold alpha and betas\n",
    "betalist = []\n",
    "alphalist = []\n",
    "\n",
    "# loop through each fold, run regression, store alpha and betas in lists\n",
    "for train_ix, test_ix in kf:\n",
    "    xvalue_matrix_train = xvalue_matrix[train_ix]\n",
    "    y_train = y[train_ix]\n",
    "    alpha, betas, count = multivariate_ols(xvalue_matrix_train, y_train, R=0.01, MaxIterations=100000)\n",
    "    alphalist.append(alpha)\n",
    "    betalist.append(betas)\n",
    "\n",
    "# take means of lists to produce cross-validated estimates\n",
    "alphahat = np.array(alphalist).mean()\n",
    "betahats = np.array(betalist).mean(axis = 0)\n",
    "\n",
    "print alphahat, betahats\n"
   ]
  },
  {
   "cell_type": "markdown",
   "metadata": {},
   "source": [
    "The cross-validated estimates for betas are slightly different than what regression against the entire set produced, albeit only at the thousandths position. Interestingly, cross-validation produced an alpha value of -.0019, whereas full-set regression returned 0.000000. This is likely noise, as one would expect standardized variables to produce no intercept in a linear regression where the target was also standardized."
   ]
  },
  {
   "cell_type": "markdown",
   "metadata": {},
   "source": [
    "### 3.2 Predicted values and RMSE\n",
    "\n",
    "Let's figure out how accurate this predictive model turned out to be. Compute the RMSE on your test cases, i.e. take the model parameters that you found above and compare the actual to the predicted values for just the test instances. If you did this the k-fold way above, this will be the average RMSE across the k test sets. If you did this the quick and dirty way above, this will just be the RMSE on your single test set.\n",
    "\n",
    "What is your test RMSE?  How does it compare to the performance of your nearest neighbor algorithm from the last problem set?"
   ]
  },
  {
   "cell_type": "code",
   "execution_count": 13,
   "metadata": {
    "collapsed": false
   },
   "outputs": [
    {
     "name": "stdout",
     "output_type": "stream",
     "text": [
      "0.586\n"
     ]
    }
   ],
   "source": [
    "# compute_rmse function, taking 2 tuples: predictions, yvalues\n",
    "from numpy import sqrt\n",
    "\n",
    "\"\"\"\n",
    "Function\n",
    "--------\n",
    "compute_rmse\n",
    "\n",
    "Given two arrays, one of actual values and one of predicted values,\n",
    "compute the Roote Mean Squared Error\n",
    "\n",
    "Parameters\n",
    "----------\n",
    "predictions : array\n",
    "    Array of numerical values corresponding to predictions for each of the N observations\n",
    "\n",
    "yvalues : array\n",
    "    Array of numerical values corresponding to the actual values for each of the N observations\n",
    "\n",
    "Returns\n",
    "-------\n",
    "rmse : int\n",
    "    Root Mean Squared Error of the prediction\n",
    "\n",
    "Example\n",
    "-------\n",
    ">>> print compute_rmse((2,2,3),(0,2,6)\n",
    "2.08\n",
    "\"\"\"\n",
    "def compute_rmse(predictions, yvalues):\n",
    "    rmse = np.sqrt(np.mean((predictions-yvalues)**2))\n",
    "    return round(rmse, 2)\n",
    "\n",
    "# initialize variable lists\n",
    "yhats = []\n",
    "rmse = []\n",
    "\n",
    "# for each fold, compute yhat, and calculate rmse\n",
    "for train_ix, test_ix in kf:\n",
    "    xvalue_matrix_test = xvalue_matrix[test_ix]\n",
    "    y_test = y[test_ix]\n",
    "    yhats = np.multiply(betahats, xvalue_matrix_test).sum(axis=1) + alphahat\n",
    "    rmse.append(compute_rmse(yhats, y_test))\n",
    "\n",
    "# average the rmse's\n",
    "rmse = np.array(rmse)\n",
    "\n",
    "print rmse.mean()"
   ]
  },
  {
   "cell_type": "markdown",
   "metadata": {},
   "source": [
    "Regressing on rm and crim produced an RMSE of .586 on standardized data. This compares favorably to the 6.63 (0.773 standardized) RMSE that my cross-validated KNN function produced using the same variables."
   ]
  },
  {
   "cell_type": "markdown",
   "metadata": {},
   "source": [
    "### Extra Credit 1: Logistic Regression\n",
    "\n",
    "For extra credit, implement logistic regression using gradient descent. Create a new variable (EXPENSIVE) to indicate whether the median housing price is more than $40,000. Use your model  a logistic regression of EXPENSIVE on CHAS and RM. Report your results."
   ]
  },
  {
   "cell_type": "code",
   "execution_count": 14,
   "metadata": {
    "collapsed": true
   },
   "outputs": [],
   "source": [
    "# initialize room variable (standardized)\n",
    "x = np.vstack(standardize(bdata.data[:,5])) # rm\n",
    "\n",
    "# initialize charles river boolean variable (non-standardized)\n",
    "c = np.vstack(bdata.data[:,3]) # chas\n",
    "\n",
    "xvalue_matrix = np.concatenate((x,c), axis = 1)\n",
    "\n",
    "# initialize boolean \"expensive\" dependent variable (non-standardized)\n",
    "y = np.ravel(np.vstack(bdata.target)) > 40\n",
    "\n"
   ]
  },
  {
   "cell_type": "code",
   "execution_count": 15,
   "metadata": {
    "collapsed": false,
    "scrolled": false
   },
   "outputs": [
    {
     "name": "stdout",
     "output_type": "stream",
     "text": [
      "Time taken: 1.15 seconds\n",
      "Betas: array([ 0.58274782, -1.72501273]), Iterations: 13639, Update_term: 0.000000000999271\n"
     ]
    }
   ],
   "source": [
    "\"\"\"\n",
    "Function\n",
    "--------\n",
    "multivariate_log_regression\n",
    "    Gradient Decent to minimize log regression. \n",
    "\n",
    "Parameters\n",
    "----------\n",
    "xvalue_matrix, yvalues : narray\n",
    "    xvalue_matrix: independent variables\n",
    "    yvalues: dependent variable\n",
    "    \n",
    "R: float\n",
    "    Learning rate\n",
    "    \n",
    "MaxIterations: Int\n",
    "    maximum number of iterations\n",
    "    \n",
    "\n",
    "Returns\n",
    "-------\n",
    "beta_array: array[float]\n",
    "    co-efficient\n",
    "\"\"\"\n",
    "\n",
    " \n",
    "def multivariate_log_regression(xvalue_matrix, yvalues, R=0.01, MaxIterations=1000):\n",
    "\n",
    "    start_time = time.time()\n",
    "    \n",
    "    # set inputs\n",
    "    xvalue_matrix = np.array(xvalue_matrix)\n",
    "    yvalues = np.array(yvalues)\n",
    "    \n",
    "    # initialize the parameters   \n",
    "    rows, features = xvalue_matrix.shape\n",
    "    betas = np.zeros(features)\n",
    "    M = 0\n",
    "    J_betas = np.zeros(features)\n",
    "    J_betas = J_betas + .1 # give some value so first 'while' loop below passes\n",
    "    e = math.e\n",
    "    exp = np.array(xvalue_matrix.T.shape)\n",
    "    count = 0\n",
    "    \n",
    "    # loop until MaxIterations reached, or J-thetas become really small\n",
    "    while M < MaxIterations and abs(J_betas.max()) > .000000001:\n",
    "        exp = np.dot(betas, xvalue_matrix.T) # set value for exponent \n",
    "        resid =  yvalues - (1. / (1. + e**-exp)) # calculate residual\n",
    "        J_betas = np.mean(np.multiply(xvalue_matrix.T, resid), axis = 1) # calculate update term\n",
    "        betas = betas + R * J_betas # update coefficients\n",
    "        M += 1  \n",
    "    print \"Time taken: \" + str(round(time.time() - start_time,2)) + \" seconds\"\n",
    "    return betas, M, J_betas.max()\n",
    "\n",
    "#print multivariate_log_regression(xvalue_matrix, y, R=1, MaxIterations=50000)\n",
    "\n",
    "betas, count, update_term = multivariate_log_regression(xvalue_matrix, y, R=.1, MaxIterations=100000)\n",
    "\n",
    "print 'Betas: %r, Iterations: %i, Update_term: %.15f' % (betas, count, update_term)"
   ]
  },
  {
   "cell_type": "code",
   "execution_count": 16,
   "metadata": {
    "collapsed": false
   },
   "outputs": [
    {
     "name": "stdout",
     "output_type": "stream",
     "text": [
      "0.0 [[ 0.56473822 -1.44557831]]\n"
     ]
    }
   ],
   "source": [
    "# for comparison, regress using sklearn LogisticRegression\n",
    "from sklearn.linear_model import LogisticRegression\n",
    "x = xvalue_matrix\n",
    "log = LogisticRegression(fit_intercept=False)\n",
    "log.fit(x, y)\n",
    "print log.intercept_, log.coef_"
   ]
  },
  {
   "cell_type": "markdown",
   "metadata": {},
   "source": [
    "The log_regression gradient ascent converges quickly to coefficients of .58 and -1.72, meaning that a house bordering the Charles River increases the log odds of the value being \"Expensive\" (or greater than $40k) by .58 over a house that does not border the river. And for every additional room that a house has, the log odds of it being \"Expensive\" decrease by 1.72. The negative relationship of 'rm' with 'Expensive' is surprising, but consistent with the sklearn LogisticRegression results. The difference in value between my 'rm' and sklearn's 'rm' coefficient (-1.72 vs -1.45) is thought to be due to default regularizing included in sklearn (which my regression lacks)."
   ]
  },
  {
   "cell_type": "markdown",
   "metadata": {},
   "source": [
    "## 4 Regularization \n",
    "\n",
    "### 4.1 Get prepped\n",
    "\n",
    "Step 1: Create new interaction variables between each possible pair of the F_s features. If you originally had *K* features, you should now have *K+K^2/2* features. Standardize all of your features.\n",
    "\n",
    "Step 2: For simplicity, generate a single training and testing set.  Randomly sample 66% of your data and call this the training set, and set aside the remaining 34% as your test set."
   ]
  },
  {
   "cell_type": "code",
   "execution_count": 17,
   "metadata": {
    "collapsed": false
   },
   "outputs": [
    {
     "name": "stdout",
     "output_type": "stream",
     "text": [
      "(506, 30)\n"
     ]
    }
   ],
   "source": [
    "# build bdata into pandas dataframe\n",
    "bdf = pd.DataFrame(bdata.data, columns = bdata.feature_names)\n",
    "# make lowercase\n",
    "bdf.columns = [x.lower() for x in bdf.columns] \n",
    "\n",
    "# create 'base' df of all features \n",
    "bdfbase = bdf.copy()\n",
    "\n",
    "# create copy of df to perform feature multiplication and produce all possible 2-term interactions\n",
    "bdfmultiplier = bdf.copy()\n",
    "\n",
    "# create 'full' df to hold all base and interaction features\n",
    "bdffull = bdf.copy()\n",
    "\n",
    "# initialize colname variable\n",
    "colname = ''\n",
    "\n",
    "# multiply each of the base variables times each of the multiplier variables, removing a \n",
    "# multiplier variable each time to avoid duplication (e.g., crim*rm and rm*crim)\n",
    "for k in bdfbase:  \n",
    "    for j in bdfmultiplier:\n",
    "        colname = str(k) + str(j)\n",
    "        bdffull[colname] = bdfbase[k] * bdfmultiplier[j]\n",
    "    bdfmultiplier.drop(k, axis =1, inplace = True)\n",
    "\n",
    "\n",
    "# adjust cols value to select number of random columns to include in xvalue_matrix (35)\n",
    "np.random.seed(seed=13579)\n",
    "col_ix = np.random.randint(0,103,30)\n",
    "cols = np.array(bdffull.columns.tolist())\n",
    "cols = cols[col_ix]\n",
    "\n",
    "# set xvalue_matrix to only include the randomly selected columns\n",
    "xvalue_matrix = bdffull[cols].values\n",
    "\n",
    "# define and standardize input variables for regression\n",
    "xvalue_matrix = np.vstack(standardize(xvalue_matrix))\n",
    "y = np.ravel(np.vstack(standardize(bdata.target)))\n",
    "\n",
    "print xvalue_matrix.shape"
   ]
  },
  {
   "cell_type": "code",
   "execution_count": 18,
   "metadata": {
    "collapsed": false
   },
   "outputs": [
    {
     "name": "stdout",
     "output_type": "stream",
     "text": [
      "Data partitions created\n",
      "(333, 30) (333,)\n",
      "(173, 30) (173,)\n"
     ]
    }
   ],
   "source": [
    "# set random indices\n",
    "np.random.seed(seed=13579)\n",
    "n = len(bdata.data)\n",
    "rand_order = np.arange(0,n)\n",
    "np.random.shuffle(rand_order)\n",
    "\n",
    "# training data\n",
    "bdata_train = xvalue_matrix[rand_order[:int(n*.66)]]\n",
    "y_train = y[rand_order[:int(n*.66)]]\n",
    "\n",
    "# test data\n",
    "bdata_test = xvalue_matrix[rand_order[int(n*.66):]]\n",
    "y_test = y[rand_order[int(n*.66):]]\n",
    "\n",
    "print \"Data partitions created\"\n",
    "print bdata_train.shape, y_train.shape\n",
    "print bdata_test.shape, y_test.shape\n"
   ]
  },
  {
   "cell_type": "markdown",
   "metadata": {},
   "source": [
    "### 4.2 Let's overfit!\n",
    "Now, using your version of multivariate regression from 2.3, let's overfit the training data. Using your training set, regress housing price on as many of those *K+K/2* features as you can.  If you get too greedy, it's possible this will take a long time to compute, so start with 5-10 features, and if you have the time, add more features.\n",
    "\n",
    "Report the RMSE when you apply your model to your training set and to your testing set. How do these numbers compare to each other, and to the RMSE from 3.2 and nearest neighbors?"
   ]
  },
  {
   "cell_type": "code",
   "execution_count": 19,
   "metadata": {
    "collapsed": false
   },
   "outputs": [
    {
     "name": "stdout",
     "output_type": "stream",
     "text": [
      "Time taken: 4.65 seconds\n",
      "Training RMSE:  0.46\n",
      "Test RMSE:  0.73\n"
     ]
    }
   ],
   "source": [
    "# pass set w/ all interaction terms to Multivariate OLS function\n",
    "alphahat, betahats, count = multivariate_ols(bdata_train, y_train,  \\\n",
    "                                             R=0.04, MaxIterations=50000)\n",
    "\n",
    "# make yhat predictions on training set\n",
    "yhats_train = np.multiply(betahats, bdata_train).sum(axis=1) + alphahat\n",
    "\n",
    "# make yhat predictions on test set (using training coefficients)\n",
    "yhats_test = np.multiply(betahats, bdata_test).sum(axis=1) + alphahat\n",
    "\n",
    "# convert y train and test sets to hstacks for rmse function\n",
    "#y_train = np.hstack(y_train)\n",
    "#y_test = np.hstack(y_test)\n",
    "\n",
    "# calculate training RMSE\n",
    "rmse_train = compute_rmse(yhats_train, y_train)\n",
    "\n",
    "# calculate test RMSE\n",
    "rmse_test = compute_rmse(yhats_test, y_test)\n",
    "\n",
    "print 'Training RMSE: ', rmse_train\n",
    "print 'Test RMSE: ', rmse_test"
   ]
  },
  {
   "cell_type": "markdown",
   "metadata": {},
   "source": [
    "The training RMSE is quite good compared to earlier RMSEs, as would be expected from overfitting. Also, the Test RMSE is much worse, at .73. This is lower than what we saw in 3.2 and only slightly better than the RMSE from the KNN problem set."
   ]
  },
  {
   "cell_type": "markdown",
   "metadata": {},
   "source": [
    "### 4.3 Ridge regularization\n",
    "Incorporate L2 (Ridge) regularization into your multivariate_ols regression. Write a new version of your gradient descent algorithm that includes a regularization term \"lambda\" to penalize excessive complexity. \n",
    "\n",
    "Use your regularized regression to re-fit the model from 3.2 above on your training data. Try this for several different values of lambda, and report your RMSE for each lambda separately for your training and testing data. How do these numbers compare to each other, to the RMSE from 4.2,  to the RMSE from 2.3, and to the RMSE from nearest neighbors?\n",
    "\n",
    "Go brag to your friends about how you just implemented ridge-regularized multivariate regression using gradient descent optimization, from scratch. If you still have friends."
   ]
  },
  {
   "cell_type": "code",
   "execution_count": 20,
   "metadata": {
    "collapsed": false
   },
   "outputs": [
    {
     "name": "stdout",
     "output_type": "stream",
     "text": [
      "Time taken: 0.88 seconds\n",
      "-1.33938489369\n",
      "Lambda = 0.00, Training RMSE: 0.46, Test RMSE: 0.71, count: 10000\n",
      "Time taken: 0.89 seconds\n",
      "-1.19020927061\n",
      "Lambda = 5.00, Training RMSE: 0.49, Test RMSE: 0.65, count: 10000\n",
      "Time taken: 0.84 seconds\n",
      "-1.16717609333\n",
      "Lambda = 10.00, Training RMSE: 0.50, Test RMSE: 0.65, count: 10000\n",
      "Time taken: 0.89 seconds\n",
      "-1.15306750362\n",
      "Lambda = 15.00, Training RMSE: 0.50, Test RMSE: 0.66, count: 10000\n",
      "Time taken: 0.87 seconds\n",
      "-1.14293833129\n",
      "Lambda = 20.00, Training RMSE: 0.51, Test RMSE: 0.66, count: 10000\n",
      "Time taken: 0.89 seconds\n",
      "-1.13506756351\n",
      "Lambda = 25.00, Training RMSE: 0.51, Test RMSE: 0.66, count: 10000\n",
      "Time taken: 0.89 seconds\n",
      "-1.12862922188\n",
      "Lambda = 30.00, Training RMSE: 0.51, Test RMSE: 0.66, count: 10000\n",
      "Time taken: 0.86 seconds\n",
      "-1.12316637861\n",
      "Lambda = 35.00, Training RMSE: 0.51, Test RMSE: 0.66, count: 10000\n",
      "Time taken: 0.81 seconds\n",
      "-1.11840314485\n",
      "Lambda = 40.00, Training RMSE: 0.52, Test RMSE: 0.66, count: 10000\n",
      "Time taken: 0.83 seconds\n",
      "-1.11416223262\n",
      "Lambda = 45.00, Training RMSE: 0.52, Test RMSE: 0.67, count: 10000\n"
     ]
    }
   ],
   "source": [
    "\n",
    "\n",
    "\"\"\"\n",
    "Function\n",
    "--------\n",
    "multivariate_ols_lam\n",
    "    Gradient Decent to minimize OLS, including L2 Regularizatoin. Used to find co-efficients of \n",
    "    bivariate OLS Linear regression\n",
    "\n",
    "Parameters\n",
    "----------\n",
    "xvalue_matrix, yvalues : narray\n",
    "    xvalue_matrix: independent variables\n",
    "    yvalues: dependent variable\n",
    "\n",
    "lambda_value: float\n",
    "    Lambda value for regularization\n",
    "R: float\n",
    "    Learning rate\n",
    "    \n",
    "MaxIterations: Int\n",
    "    maximum number of iterations\n",
    "    \n",
    "\n",
    "Returns\n",
    "-------\n",
    "alpha: float\n",
    "    intercept\n",
    "    \n",
    "beta_array: array[float]\n",
    "    co-efficient\n",
    "\n",
    "count: int\n",
    "    number of iterations performed by gradient descent function\n",
    "\"\"\"\n",
    "\n",
    "def multivariate_ols_lam(xvalue_matrix, yvalues, lambda_value = .3, R=0.01, MaxIterations=1000):\n",
    "    # initialize the parameters\n",
    "    start_time = time.time()\n",
    "    xvals = np.array(xvalue_matrix)\n",
    "    yvals = np.array(yvalues)\n",
    "    lval = lambda_value\n",
    "    alpha = 0.0\n",
    "    rows, features = xvals.shape\n",
    "    betas = np.zeros(features)\n",
    "    M = 0\n",
    "    J_alpha = 0.1\n",
    "    J_betas = np.zeros(features)\n",
    "    resid = np.zeros(yvals.shape)\n",
    "\n",
    "    # loop until MaxIterations reached, or J-thetas become really small\n",
    "    while M < MaxIterations: # and (abs(J_alpha) > .0000001 or abs(J_betas.max()) > .0000001):\n",
    "        \n",
    "        # calculate residual and J-thetas\n",
    "        resid = alpha + np.dot(betas, xvals.T) - yvals\n",
    "        #return resid\n",
    "        J_alpha = np.mean(resid)\n",
    "        J_betas = np.mean(np.multiply(xvals.T, resid), axis = 1)\n",
    "\n",
    "        # update coefficients\n",
    "        #if abs(J_alpha) > .0000001:\n",
    "        alpha = alpha - R * J_alpha\n",
    "        #if abs(J_betas.max()) > .0000001:\n",
    "        betas = betas*(1-R*lval/rows) - R * J_betas\n",
    "        #if M > 10000: return J_betas\n",
    "        M += 1  \n",
    "        \n",
    "    print \"Time taken: \" + str(round(time.time() - start_time,2)) + \" seconds\"\n",
    "    return alpha, betas, M\n",
    "\n",
    "# call function for different values of lambda\n",
    "for lambdaval in range(0,50,5):\n",
    "    alphahat, betahats, count = multivariate_ols_lam(bdata_train, y_train, lambdaval, .1, 10000)\n",
    "    \n",
    "    # make yhat predictions on training set\n",
    "    yhats_train = np.multiply(betahats, bdata_train).sum(axis=1) + alphahat\n",
    "    print yhats_train[0]\n",
    "    # make yhat predictions on test set (using training coefficients)\n",
    "    yhats_test = np.multiply(betahats, bdata_test).sum(axis=1) + alphahat\n",
    "\n",
    "    # calculate training RMSE\n",
    "    rmse_train = compute_rmse(yhats_train, y_train)\n",
    "\n",
    "    # calculate test RMSE\n",
    "    rmse_test = compute_rmse(yhats_test, y_test)\n",
    "    \n",
    "    print 'Lambda = %.2f, Training RMSE: %.2f, Test RMSE: %.2f, count: %i' % \\\n",
    "    (lambdaval, rmse_train, rmse_test, count)\n"
   ]
  },
  {
   "cell_type": "markdown",
   "metadata": {},
   "source": [
    "Adding regularization to the OLS function improved the performance of the model, as Test RMSE decreased by .08 from section 4.2. Training RMSE increases as the value of lambda increases, while Test RMSE seems to have an optimal lambda range of 5 to 10. Overall, the performance on the test sets in cross-validation is .65, which is better than KNN, but not as good as section 2.3 when only rm and chas were used as predictors. This could be a result of the random 30 predictors that were chosen for this model, and a different 30 may well outperform section 2.3."
   ]
  },
  {
   "cell_type": "markdown",
   "metadata": {},
   "source": [
    "### Extra Credit 2: Cross-validate lambda\n",
    "\n",
    "Use k-fold cross-validation to select the optimal value of lambda. Report the average RMSE across all training sets, and the average RMSE across all testing sets. How do these numbers compare to each other, to the RMSE from your previous efforts?  Finally, create a scatter plot that shows RMSE as a function of lambda."
   ]
  },
  {
   "cell_type": "code",
   "execution_count": 21,
   "metadata": {
    "collapsed": false
   },
   "outputs": [
    {
     "name": "stdout",
     "output_type": "stream",
     "text": [
      "Time taken: 0.78 seconds\n",
      "Time taken: 0.76 seconds\n",
      "Time taken: 0.82 seconds\n",
      "Time taken: 0.84 seconds\n",
      "Time taken: 0.78 seconds\n",
      "Time taken: 0.83 seconds\n",
      "Time taken: 0.78 seconds\n",
      "Time taken: 0.8 seconds\n",
      "Time taken: 0.76 seconds\n",
      "Time taken: 0.76 seconds\n",
      "For Lambda: 0.00, cross-validated Training RMSE: 0.5500, Test RMSE: 0.3900\n",
      "Time taken: 0.77 seconds\n",
      "Time taken: 0.77 seconds\n",
      "Time taken: 0.78 seconds\n",
      "Time taken: 0.8 seconds\n",
      "Time taken: 0.79 seconds\n",
      "Time taken: 0.8 seconds\n",
      "Time taken: 0.79 seconds\n",
      "Time taken: 0.79 seconds\n",
      "Time taken: 0.79 seconds\n",
      "Time taken: 0.79 seconds\n",
      "For Lambda: 100.00, cross-validated Training RMSE: 0.6100, Test RMSE: 0.3500\n",
      "Time taken: 0.8 seconds\n",
      "Time taken: 0.8 seconds\n",
      "Time taken: 0.8 seconds\n",
      "Time taken: 0.78 seconds\n",
      "Time taken: 0.79 seconds\n",
      "Time taken: 0.78 seconds\n",
      "Time taken: 0.77 seconds\n",
      "Time taken: 0.8 seconds\n",
      "Time taken: 0.79 seconds\n",
      "Time taken: 0.8 seconds\n",
      "For Lambda: 200.00, cross-validated Training RMSE: 0.6400, Test RMSE: 0.3600\n",
      "Time taken: 0.81 seconds\n",
      "Time taken: 0.81 seconds\n",
      "Time taken: 0.78 seconds\n",
      "Time taken: 0.76 seconds\n",
      "Time taken: 0.74 seconds\n",
      "Time taken: 0.82 seconds\n",
      "Time taken: 0.84 seconds\n",
      "Time taken: 0.82 seconds\n",
      "Time taken: 0.79 seconds\n",
      "Time taken: 0.75 seconds\n",
      "For Lambda: 300.00, cross-validated Training RMSE: 0.6700, Test RMSE: 0.3600\n",
      "Time taken: 0.75 seconds\n",
      "Time taken: 0.75 seconds\n",
      "Time taken: 0.75 seconds\n",
      "Time taken: 0.74 seconds\n",
      "Time taken: 0.83 seconds\n",
      "Time taken: 0.78 seconds\n",
      "Time taken: 0.77 seconds\n",
      "Time taken: 0.75 seconds\n",
      "Time taken: 0.81 seconds\n",
      "Time taken: 0.83 seconds\n",
      "For Lambda: 400.00, cross-validated Training RMSE: 0.6900, Test RMSE: 0.3700\n",
      "Time taken: 0.85 seconds\n",
      "Time taken: 0.84 seconds\n",
      "Time taken: 0.83 seconds\n",
      "Time taken: 0.76 seconds\n",
      "Time taken: 0.82 seconds\n",
      "Time taken: 0.81 seconds\n",
      "Time taken: 0.76 seconds\n",
      "Time taken: 0.8 seconds\n",
      "Time taken: 0.76 seconds\n",
      "Time taken: 0.78 seconds\n",
      "For Lambda: 500.00, cross-validated Training RMSE: 0.7000, Test RMSE: 0.3700\n",
      "Time taken: 0.77 seconds\n",
      "Time taken: 0.78 seconds\n",
      "Time taken: 0.78 seconds\n",
      "Time taken: 0.79 seconds\n",
      "Time taken: 0.79 seconds\n",
      "Time taken: 0.79 seconds\n",
      "Time taken: 0.77 seconds\n",
      "Time taken: 0.77 seconds\n",
      "Time taken: 0.77 seconds\n",
      "Time taken: 0.78 seconds\n",
      "For Lambda: 600.00, cross-validated Training RMSE: 0.7200, Test RMSE: 0.3800\n",
      "Time taken: 0.78 seconds\n",
      "Time taken: 0.78 seconds\n",
      "Time taken: 0.78 seconds\n",
      "Time taken: 0.78 seconds\n",
      "Time taken: 0.76 seconds\n",
      "Time taken: 0.8 seconds\n",
      "Time taken: 0.79 seconds\n",
      "Time taken: 0.81 seconds\n",
      "Time taken: 0.8 seconds\n",
      "Time taken: 0.76 seconds\n",
      "For Lambda: 700.00, cross-validated Training RMSE: 0.7300, Test RMSE: 0.3800\n",
      "Time taken: 0.75 seconds\n",
      "Time taken: 0.77 seconds\n",
      "Time taken: 0.76 seconds\n",
      "Time taken: 0.77 seconds\n",
      "Time taken: 0.79 seconds\n",
      "Time taken: 0.76 seconds\n",
      "Time taken: 0.77 seconds\n",
      "Time taken: 0.78 seconds\n",
      "Time taken: 0.81 seconds\n",
      "Time taken: 0.84 seconds\n",
      "For Lambda: 800.00, cross-validated Training RMSE: 0.7400, Test RMSE: 0.3900\n",
      "Time taken: 0.78 seconds\n",
      "Time taken: 0.78 seconds\n",
      "Time taken: 0.81 seconds\n",
      "Time taken: 0.77 seconds\n",
      "Time taken: 0.76 seconds\n",
      "Time taken: 0.77 seconds\n",
      "Time taken: 0.77 seconds\n",
      "Time taken: 0.77 seconds\n",
      "Time taken: 0.77 seconds\n",
      "Time taken: 0.75 seconds\n",
      "For Lambda: 900.00, cross-validated Training RMSE: 0.7600, Test RMSE: 0.3900\n",
      "Overall average Training RMSE: 0.68, Overall average Test RMSE: 0.37\n"
     ]
    }
   ],
   "source": [
    "# Your code here\n",
    "cols = cols[0:13]\n",
    "xvalue_matrix = bdffull[cols].values\n",
    "# define and standardize input variables for regression\n",
    "xvalue_matrix = np.vstack(standardize(xvalue_matrix))\n",
    "y = np.ravel(np.vstack(standardize(bdata.target)))\n",
    "\n",
    "# Cross-Fold validation, 10 folds\n",
    "kf = KFold(len(xvalue_matrix), n_folds=10)\n",
    "\n",
    "\n",
    "lambda_list = []\n",
    "train_rmse_list = []\n",
    "test_rmse_list = []\n",
    "    \n",
    "for lam in range(0,1000,100):\n",
    "    lambda_list.append(lam)\n",
    "    betalist = []\n",
    "    alphalist = []\n",
    "    for train_ix, test_ix in kf:\n",
    "        bdata_train = xvalue_matrix[train_ix]\n",
    "        y_train = y[train_ix]\n",
    "        alpha, betas, count = multivariate_ols_lam(bdata_train, y_train, lam, R=0.01, MaxIterations=10000)\n",
    "        alphalist.append(alpha)\n",
    "        betalist.append(betas)\n",
    "\n",
    "    alphahat = np.array(alphalist).mean()\n",
    "    betahats = np.array(betalist).mean(axis = 0)\n",
    "    \n",
    "    #RMSE\n",
    "\n",
    "    \n",
    "    for train_ix, test_ix in kf:\n",
    "        train_rmse = []\n",
    "        xvalue_matrix_train = xvalue_matrix[train_ix]\n",
    "        y_train = y[train_ix]\n",
    "        yhat_train = np.multiply(betahats, xvalue_matrix_train).sum(axis=1) + alphahat\n",
    "        train_rmse.append(compute_rmse(yhat_train, y_train))\n",
    "        \n",
    "        test_rmse = []\n",
    "        xvalue_matrix_test = xvalue_matrix[test_ix]\n",
    "        y_test = y[test_ix]\n",
    "        yhat_test = np.multiply(betahats, xvalue_matrix_test).sum(axis=1) + alphahat\n",
    "        test_rmse.append(compute_rmse(yhat_test, y_test))\n",
    "    \n",
    "    train_rmse = np.array(train_rmse)\n",
    "    train_rmse_list.append(train_rmse.mean())\n",
    "    test_rmse = np.array(test_rmse)\n",
    "    test_rmse_list.append(test_rmse.mean())\n",
    "\n",
    "    print 'For Lambda: %.2f, cross-validated Training RMSE: %.4f, Test RMSE: %.4f' % \\\n",
    "    (lam, train_rmse.mean(), test_rmse.mean())\n",
    "\n",
    "mean_train = sum(train_rmse_list) / len(train_rmse_list)\n",
    "mean_test = sum(test_rmse_list) / len(test_rmse_list)\n",
    "print 'Overall average Training RMSE: %.2f, Overall average Test RMSE: %.2f' % (mean_train, mean_test)\n",
    "\n"
   ]
  },
  {
   "cell_type": "code",
   "execution_count": 27,
   "metadata": {
    "collapsed": false
   },
   "outputs": [
    {
     "name": "stdout",
     "output_type": "stream",
     "text": [
      "[0, 100, 200, 300, 400, 500, 600, 700, 800, 900]\n",
      "[0.39000000000000001, 0.34999999999999998, 0.35999999999999999, 0.35999999999999999, 0.37, 0.37, 0.38, 0.38, 0.39000000000000001, 0.39000000000000001]\n"
     ]
    },
    {
     "data": {
      "text/plain": [
       "<matplotlib.text.Text at 0x10d389650>"
      ]
     },
     "execution_count": 27,
     "metadata": {},
     "output_type": "execute_result"
    },
    {
     "data": {
      "image/png": "[encoded data removed]",
      "text/plain": [
       "<matplotlib.figure.Figure at 0x10c60f950>"
      ]
     },
     "metadata": {},
     "output_type": "display_data"
    }
   ],
   "source": [
    "print lambda_list\n",
    "print test_rmse_list\n",
    "\n",
    "plt.plot(lambda_list, test_rmse_list)\n",
    "# set variables for plot\n",
    "y = np.vstack(test_rmse_list)\n",
    "x = np.vstack(lambda_list)\n",
    "\n",
    "# create scatter plot of price on rooms per house\n",
    "plt.scatter(x, y, color = 'b')\n",
    "\n",
    "# remove right and top borders\n",
    "plt.gca().spines['right'].set_visible(False)\n",
    "plt.gca().spines['top'].set_visible(False)\n",
    "plt.tick_params(\n",
    "    axis='both',     # changes apply to the x-axis\n",
    "    which='both',    # both major and minor ticks are affected\n",
    "    bottom='on',    # ticks along the bottom edge are on\n",
    "    top='off',  # ticks along the top edge are off\n",
    "    right = 'off',  # ticks along the right edge are off\n",
    "    labelbottom='on')  # labels along the bottom edge are off\n",
    "# set x axis limits\n",
    "#plt.gca().set_xlim([2,10])\n",
    "# apply labels\n",
    "plt.gca().set_xlabel('Value of Lambda')\n",
    "plt.gca().set_ylabel('Test RMSE')\n",
    "plt.gca().set_title('Test RMSE by Lambda Value for 14 Original Variables')"
   ]
  },
  {
   "cell_type": "markdown",
   "metadata": {},
   "source": [
    "Using the 14 original variables inthis model performed the best by far, producing an average test RMSE of .37 over 10 values of lambda. The optimal lambda value apears to be ~ 100 in this model, which resulted in a Test RMSE of .35. Overall, the average training RMSE (.68) was higher than with previous models. But obviously the better Test RMSE was the primary goal. Cross-validation and lambda appear to have reduced the overfitting problem that plagued earlier attempts."
   ]
  },
  {
   "cell_type": "markdown",
   "metadata": {},
   "source": [
    "### (Showoff) Extra Credit 3: Lambda and coefficients\n",
    "\n",
    "If you're feeling extra-special, create a parameter plot that shows how the different coefficient estimates change as a function of lambda. To make this graph intelligible, only include the *K* original F_s features in this plot"
   ]
  },
  {
   "cell_type": "code",
   "execution_count": 22,
   "metadata": {
    "collapsed": false
   },
   "outputs": [
    {
     "name": "stdout",
     "output_type": "stream",
     "text": [
      "Time taken: 0.83 seconds\n",
      "Time taken: 0.83 seconds\n",
      "Time taken: 0.88 seconds\n",
      "Time taken: 0.84 seconds\n",
      "Time taken: 0.78 seconds\n",
      "Time taken: 0.79 seconds\n",
      "Time taken: 0.83 seconds\n",
      "Time taken: 0.87 seconds\n",
      "Time taken: 0.86 seconds\n",
      "Time taken: 0.84 seconds\n"
     ]
    }
   ],
   "source": [
    "# assign variables (standardized)\n",
    "y = np.ravel(np.vstack(standardize(bdata.target)))\n",
    "xvalue_matrix = standardize(bdf)\n",
    "\n",
    "lamvalues = []\n",
    "coeffs = []\n",
    "cols = xvalue_matrix.columns\n",
    "\n",
    "# regress for 10 values of lambda, save coefficient values\n",
    "for lam in range(0,1000,100):\n",
    "    alphahat, betahats, count = multivariate_ols_lam(xvalue_matrix, y, lam, R=0.01, MaxIterations=10000)\n",
    "    lamvalues.append(lam)\n",
    "    coeffs.append(betahats)\n",
    "\n"
   ]
  },
  {
   "cell_type": "code",
   "execution_count": 23,
   "metadata": {
    "collapsed": false
   },
   "outputs": [
    {
     "data": {
      "text/plain": [
       "<matplotlib.text.Text at 0x10d385150>"
      ]
     },
     "execution_count": 23,
     "metadata": {},
     "output_type": "execute_result"
    },
    {
     "data": {
      "image/png": "[encoded data removed]",
      "text/plain": [
       "<matplotlib.figure.Figure at 0x10d248a90>"
      ]
     },
     "metadata": {},
     "output_type": "display_data"
    }
   ],
   "source": [
    "# transform lists to np arrays before making pd dataframe\n",
    "coeffs = np.array(coeffs)\n",
    "lamvalues = np.array(lamvalues)\n",
    "\n",
    "# get lists into pd dataframe for easier plotting, use cols for column names and lamvalues as index\n",
    "lam_coeffs_df = pd.DataFrame(coeffs)\n",
    "lam_coeffs_df.columns = cols\n",
    "lam_coeffs_df['lam'] = lamvalues\n",
    "lam_coeffs_df_indexed = lam_coeffs_df.set_index(lam_coeffs_df['lam'])\n",
    "\n",
    "# drop lambda column (values held in index)\n",
    "lam_coeffs_df_indexed.drop('lam', axis = 1, inplace = True)\n",
    "\n",
    "# make plot\n",
    "lamplot = lam_coeffs_df_indexed.plot(subplots=False, figsize=(12, 6)); plt.legend(loc='best')\n",
    "lamplot.legend(loc='lower center', bbox_to_anchor=(0.5, 1.05),\n",
    "          ncol=4, fancybox=True, shadow=False)\n",
    "\n",
    "# add labels\n",
    "plt.gca().set_xlabel('Lambda Values')\n",
    "plt.gca().set_ylabel('Coefficient Values')\n",
    "plt.gca().set_title('Ridge Regularized OLS Regression Coefficient Values as a Function of Lamba')"
   ]
  },
  {
   "cell_type": "markdown",
   "metadata": {},
   "source": [
    "As lambda increases in the regularized regression, the coefficient values all tend to 0. There is a distinct bend in the slopes of the lines around Lambda = 100. This is also the value at which the regression produces alpha-hat and beta-hat coefficients that result in the lowest Test RMSE."
   ]
  }
 ],
 "metadata": {
  "kernelspec": {
   "display_name": "Python 2",
   "language": "python",
   "name": "python2"
  },
  "language_info": {
   "codemirror_mode": {
    "name": "ipython",
    "version": 2
   },
   "file_extension": ".py",
   "mimetype": "text/x-python",
   "name": "python",
   "nbconvert_exporter": "python",
   "pygments_lexer": "ipython2",
   "version": "2.7.11"
  }
 },
 "nbformat": 4,
 "nbformat_minor": 0
}
