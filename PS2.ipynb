{
 "cells": [
  {
   "cell_type": "markdown",
   "metadata": {},
   "source": [
    "# Problem Set 2, due January 26 at 11:59am (i.e., noon).\n",
    "\n",
    "**Please Note:** This assignment will likely take you a _long_ time, especially if you are new to Python. Start early!"
   ]
  },
  {
   "cell_type": "markdown",
   "metadata": {},
   "source": [
    "## Introduction to the assignment\n",
    "\n",
    "For this assignment, you will be using data from the [Progresa program](http://en.wikipedia.org/wiki/Oportunidades), a government social assistance program in Mexico. This program, as well as the details of its impact, are described in the paper \"[School subsidies for the poor: evaluating the Mexican Progresa poverty program](http://www.sciencedirect.com/science/article/pii/S0304387803001858)\", by Paul Shultz (available on Canvas). Please familiarize yourself with the PROGRESA program before beginning this problem set, so you have a rough sense of where the data come from and how they were generated. If you just proceed into the problem set without understanding Progresa or the data, it will be very difficult!\n",
    "\n",
    "The goal of this problem set is to implement some of the basic econometric techniques that you are learning in class to measure the impact of Progresa on secondary school enrollment rates. The timeline of the program was:\n",
    "\n",
    " * Baseline survey conducted in 1997\n",
    " * Intervention begins in 1998, \"Wave 1\" of data collected in 1998\n",
    " * \"Wave 2 of data\" collected in 1999\n",
    " * Evaluation ends in 2000, at which point the control villages were treated. \n",
    " \n",
    "When you are ready, download the progresa_sample.csv data from Canvas. The data are actual data collected to evaluate the impact of the Progresa program.  In this file, each row corresponds to an observation taken for a given child for a given year. There are two years of data (1997 and 1998), and just under 40,000 children who are surveyed in each year. For each child-year observation, the following variables are collected:\n",
    "\n",
    "| Variable name | Description|\n",
    "|------|------|\n",
    "|year\t  |year in which data is collected\n",
    "|sex\t  |male = 1|\n",
    "|indig\t  |indigenous = 1|\n",
    "|dist_sec |nearest distance to a secondary school|\n",
    "|sc\t      |enrolled in school in year of survey|\n",
    "|grc      |grade enrolled|\n",
    "|fam_n    |family size|\n",
    "|min_dist |\tmin distance to an urban center|\n",
    "|dist_cap |\tmin distance to the capital|\n",
    "|poor     |\tpoor = 1|\n",
    "|progresa |treatment =1|\n",
    "|hohedu\t  |years of schooling of head of household|\n",
    "|hohwag\t  |monthly wages of head of household|\n",
    "|welfare_index|\twelfare index used to classify poor|\n",
    "|hohsex\t|gender of head of household (male=1)|\n",
    "|hohage\t|age of head of household|\n",
    "|age\t|years old|\n",
    "|folnum\t|individual id|\n",
    "|village|\tvillage id|\n",
    "|sc97\t|schooling in 1997|"
   ]
  },
  {
   "cell_type": "markdown",
   "metadata": {},
   "source": [
    "---\n",
    "\n",
    "##Part 1: Descriptive analysis\n",
    "\n",
    "### 1.1\tSummary Statistics\n",
    "\n",
    "Present summary statistics (mean and standard deviation) for all of the demographic variables in the dataset (i.e., everything except year, folnum, village). Present these in a single table alphabetized by variable name. Do NOT simply expect the grader to scroll through your output!"
   ]
  },
  {
   "cell_type": "code",
   "execution_count": 1,
   "metadata": {
    "collapsed": false
   },
   "outputs": [
    {
     "name": "stdout",
     "output_type": "stream",
     "text": [
      "IPython version:       4.0.1 (need at least 1.0)\n",
      "Numpy version:        1.10.1 (need at least 1.7.1)\n",
      "SciPy version:        0.16.0 (need at least 0.12.0)\n",
      "Pandas version:       0.17.1 (need at least 0.11.0)\n",
      "Mapltolib version:     1.5.0 (need at least 1.2.1)\n",
      "Scikit-Learn version:   0.17 (need at least 0.13.1)\n"
     ]
    }
   ],
   "source": [
    "#IPython is what you are using now to run the notebook\n",
    "import IPython\n",
    "print \"IPython version:      %6.6s (need at least 1.0)\" % IPython.__version__\n",
    "\n",
    "# Numpy is a library for working with Arrays\n",
    "import numpy as np\n",
    "print \"Numpy version:        %6.6s (need at least 1.7.1)\" % np.__version__\n",
    "\n",
    "# SciPy implements many different numerical algorithms\n",
    "import scipy as sp\n",
    "print \"SciPy version:        %6.6s (need at least 0.12.0)\" % sp.__version__\n",
    "\n",
    "# Pandas makes working with data tables easier\n",
    "import pandas as pd\n",
    "print \"Pandas version:       %6.6s (need at least 0.11.0)\" % pd.__version__\n",
    "\n",
    "# Module for plotting\n",
    "import matplotlib\n",
    "print \"Mapltolib version:    %6.6s (need at least 1.2.1)\" % matplotlib.__version__\n",
    "\n",
    "# SciKit Learn implements several Machine Learning algorithms\n",
    "import sklearn\n",
    "print \"Scikit-Learn version: %6.6s (need at least 0.13.1)\" % sklearn.__version__\n",
    "\n",
    "# Import and alias pyplot from matplotlib\n",
    "import matplotlib.pyplot as plt\n",
    "\n",
    "# Set plots to plot inline\n",
    "%matplotlib inline \n",
    "\n",
    "# Import StatsModels for OLS\n",
    "import statsmodels.api as sm"
   ]
  },
  {
   "cell_type": "code",
   "execution_count": 2,
   "metadata": {
    "collapsed": true
   },
   "outputs": [],
   "source": [
    "# Load dataset. \n",
    "# Create dataframe from file \n",
    "progresa_df = pd.read_csv('progresa_sample.csv')\n",
    "\n",
    "# set progresa column to 1 for 'basal' and 0 for '0'\n",
    "progresa_df.loc[:,'progresa'] = np.where(progresa_df['progresa'] == 'basal', 1, 0)\n",
    "\n",
    "# add dummy column to hold pre-post treatement (for question 2.5)\n",
    "progresa_df.loc[:,'post'] = np.where(progresa_df.year == 98, 1, 0)\n",
    "\n",
    "# set poor column to 1 for 'pobre' and 0 for '0'\n",
    "progresa_df.loc[:,'poor'] = np.where(progresa_df['poor'] == 'pobre', 1, 0)\n"
   ]
  },
  {
   "cell_type": "code",
   "execution_count": 3,
   "metadata": {
    "collapsed": false
   },
   "outputs": [
    {
     "data": {
      "text/html": [
       "<div>\n",
       "<table border=\"1\" class=\"dataframe\">\n",
       "  <thead>\n",
       "    <tr style=\"text-align: right;\">\n",
       "      <th></th>\n",
       "      <th>count</th>\n",
       "      <th>mean</th>\n",
       "      <th>std</th>\n",
       "      <th>min</th>\n",
       "      <th>25%</th>\n",
       "      <th>50%</th>\n",
       "      <th>75%</th>\n",
       "      <th>max</th>\n",
       "    </tr>\n",
       "  </thead>\n",
       "  <tbody>\n",
       "    <tr>\n",
       "      <th>age</th>\n",
       "      <td>77250</td>\n",
       "      <td>11.366460</td>\n",
       "      <td>3.167744</td>\n",
       "      <td>6.000000</td>\n",
       "      <td>9.000000</td>\n",
       "      <td>11.000000</td>\n",
       "      <td>14.000000</td>\n",
       "      <td>17.000000</td>\n",
       "    </tr>\n",
       "    <tr>\n",
       "      <th>dist_cap</th>\n",
       "      <td>77250</td>\n",
       "      <td>147.674452</td>\n",
       "      <td>76.063134</td>\n",
       "      <td>9.465392</td>\n",
       "      <td>92.327050</td>\n",
       "      <td>132.001494</td>\n",
       "      <td>184.445225</td>\n",
       "      <td>359.774457</td>\n",
       "    </tr>\n",
       "    <tr>\n",
       "      <th>dist_sec</th>\n",
       "      <td>77250</td>\n",
       "      <td>2.418910</td>\n",
       "      <td>2.234109</td>\n",
       "      <td>0.000000</td>\n",
       "      <td>0.574000</td>\n",
       "      <td>2.279000</td>\n",
       "      <td>3.582000</td>\n",
       "      <td>14.879000</td>\n",
       "    </tr>\n",
       "    <tr>\n",
       "      <th>fam_n</th>\n",
       "      <td>77250</td>\n",
       "      <td>7.215715</td>\n",
       "      <td>2.352900</td>\n",
       "      <td>1.000000</td>\n",
       "      <td>6.000000</td>\n",
       "      <td>7.000000</td>\n",
       "      <td>9.000000</td>\n",
       "      <td>24.000000</td>\n",
       "    </tr>\n",
       "    <tr>\n",
       "      <th>grc</th>\n",
       "      <td>70701</td>\n",
       "      <td>3.963537</td>\n",
       "      <td>2.499063</td>\n",
       "      <td>0.000000</td>\n",
       "      <td>2.000000</td>\n",
       "      <td>4.000000</td>\n",
       "      <td>6.000000</td>\n",
       "      <td>14.000000</td>\n",
       "    </tr>\n",
       "    <tr>\n",
       "      <th>grc97</th>\n",
       "      <td>77250</td>\n",
       "      <td>3.705372</td>\n",
       "      <td>2.572387</td>\n",
       "      <td>0.000000</td>\n",
       "      <td>1.000000</td>\n",
       "      <td>4.000000</td>\n",
       "      <td>6.000000</td>\n",
       "      <td>14.000000</td>\n",
       "    </tr>\n",
       "    <tr>\n",
       "      <th>hohage</th>\n",
       "      <td>77240</td>\n",
       "      <td>44.436717</td>\n",
       "      <td>11.620372</td>\n",
       "      <td>15.000000</td>\n",
       "      <td>36.000000</td>\n",
       "      <td>43.000000</td>\n",
       "      <td>51.000000</td>\n",
       "      <td>98.000000</td>\n",
       "    </tr>\n",
       "    <tr>\n",
       "      <th>hohedu</th>\n",
       "      <td>77250</td>\n",
       "      <td>2.768104</td>\n",
       "      <td>2.656106</td>\n",
       "      <td>0.000000</td>\n",
       "      <td>0.000000</td>\n",
       "      <td>2.000000</td>\n",
       "      <td>4.000000</td>\n",
       "      <td>20.000000</td>\n",
       "    </tr>\n",
       "    <tr>\n",
       "      <th>hohsex</th>\n",
       "      <td>77230</td>\n",
       "      <td>0.925185</td>\n",
       "      <td>0.263095</td>\n",
       "      <td>0.000000</td>\n",
       "      <td>1.000000</td>\n",
       "      <td>1.000000</td>\n",
       "      <td>1.000000</td>\n",
       "      <td>1.000000</td>\n",
       "    </tr>\n",
       "    <tr>\n",
       "      <th>hohwag</th>\n",
       "      <td>77250</td>\n",
       "      <td>586.985312</td>\n",
       "      <td>788.133664</td>\n",
       "      <td>0.000000</td>\n",
       "      <td>120.000000</td>\n",
       "      <td>500.000000</td>\n",
       "      <td>750.000000</td>\n",
       "      <td>14000.000000</td>\n",
       "    </tr>\n",
       "    <tr>\n",
       "      <th>indig</th>\n",
       "      <td>76950</td>\n",
       "      <td>0.298324</td>\n",
       "      <td>0.457525</td>\n",
       "      <td>0.000000</td>\n",
       "      <td>0.000000</td>\n",
       "      <td>0.000000</td>\n",
       "      <td>1.000000</td>\n",
       "      <td>1.000000</td>\n",
       "    </tr>\n",
       "    <tr>\n",
       "      <th>min_dist</th>\n",
       "      <td>77250</td>\n",
       "      <td>103.447520</td>\n",
       "      <td>42.089441</td>\n",
       "      <td>9.465392</td>\n",
       "      <td>70.518238</td>\n",
       "      <td>111.228612</td>\n",
       "      <td>138.446009</td>\n",
       "      <td>170.457647</td>\n",
       "    </tr>\n",
       "    <tr>\n",
       "      <th>poor</th>\n",
       "      <td>77250</td>\n",
       "      <td>0.846498</td>\n",
       "      <td>0.360473</td>\n",
       "      <td>0.000000</td>\n",
       "      <td>1.000000</td>\n",
       "      <td>1.000000</td>\n",
       "      <td>1.000000</td>\n",
       "      <td>1.000000</td>\n",
       "    </tr>\n",
       "    <tr>\n",
       "      <th>post</th>\n",
       "      <td>77250</td>\n",
       "      <td>0.500000</td>\n",
       "      <td>0.500003</td>\n",
       "      <td>0.000000</td>\n",
       "      <td>0.000000</td>\n",
       "      <td>0.500000</td>\n",
       "      <td>1.000000</td>\n",
       "      <td>1.000000</td>\n",
       "    </tr>\n",
       "    <tr>\n",
       "      <th>progresa</th>\n",
       "      <td>77250</td>\n",
       "      <td>0.615663</td>\n",
       "      <td>0.486441</td>\n",
       "      <td>0.000000</td>\n",
       "      <td>0.000000</td>\n",
       "      <td>1.000000</td>\n",
       "      <td>1.000000</td>\n",
       "      <td>1.000000</td>\n",
       "    </tr>\n",
       "    <tr>\n",
       "      <th>sc</th>\n",
       "      <td>68797</td>\n",
       "      <td>0.819818</td>\n",
       "      <td>0.384342</td>\n",
       "      <td>0.000000</td>\n",
       "      <td>1.000000</td>\n",
       "      <td>1.000000</td>\n",
       "      <td>1.000000</td>\n",
       "      <td>1.000000</td>\n",
       "    </tr>\n",
       "    <tr>\n",
       "      <th>sc97</th>\n",
       "      <td>73378</td>\n",
       "      <td>0.813922</td>\n",
       "      <td>0.389172</td>\n",
       "      <td>0.000000</td>\n",
       "      <td>1.000000</td>\n",
       "      <td>1.000000</td>\n",
       "      <td>1.000000</td>\n",
       "      <td>1.000000</td>\n",
       "    </tr>\n",
       "    <tr>\n",
       "      <th>sex</th>\n",
       "      <td>77226</td>\n",
       "      <td>0.512211</td>\n",
       "      <td>0.499854</td>\n",
       "      <td>0.000000</td>\n",
       "      <td>0.000000</td>\n",
       "      <td>1.000000</td>\n",
       "      <td>1.000000</td>\n",
       "      <td>1.000000</td>\n",
       "    </tr>\n",
       "    <tr>\n",
       "      <th>welfare_index</th>\n",
       "      <td>77040</td>\n",
       "      <td>690.346564</td>\n",
       "      <td>139.491130</td>\n",
       "      <td>180.000000</td>\n",
       "      <td>597.000000</td>\n",
       "      <td>685.000000</td>\n",
       "      <td>770.000000</td>\n",
       "      <td>1294.000000</td>\n",
       "    </tr>\n",
       "  </tbody>\n",
       "</table>\n",
       "</div>"
      ],
      "text/plain": [
       "               count        mean         std         min         25%  \\\n",
       "age            77250   11.366460    3.167744    6.000000    9.000000   \n",
       "dist_cap       77250  147.674452   76.063134    9.465392   92.327050   \n",
       "dist_sec       77250    2.418910    2.234109    0.000000    0.574000   \n",
       "fam_n          77250    7.215715    2.352900    1.000000    6.000000   \n",
       "grc            70701    3.963537    2.499063    0.000000    2.000000   \n",
       "grc97          77250    3.705372    2.572387    0.000000    1.000000   \n",
       "hohage         77240   44.436717   11.620372   15.000000   36.000000   \n",
       "hohedu         77250    2.768104    2.656106    0.000000    0.000000   \n",
       "hohsex         77230    0.925185    0.263095    0.000000    1.000000   \n",
       "hohwag         77250  586.985312  788.133664    0.000000  120.000000   \n",
       "indig          76950    0.298324    0.457525    0.000000    0.000000   \n",
       "min_dist       77250  103.447520   42.089441    9.465392   70.518238   \n",
       "poor           77250    0.846498    0.360473    0.000000    1.000000   \n",
       "post           77250    0.500000    0.500003    0.000000    0.000000   \n",
       "progresa       77250    0.615663    0.486441    0.000000    0.000000   \n",
       "sc             68797    0.819818    0.384342    0.000000    1.000000   \n",
       "sc97           73378    0.813922    0.389172    0.000000    1.000000   \n",
       "sex            77226    0.512211    0.499854    0.000000    0.000000   \n",
       "welfare_index  77040  690.346564  139.491130  180.000000  597.000000   \n",
       "\n",
       "                      50%         75%           max  \n",
       "age             11.000000   14.000000     17.000000  \n",
       "dist_cap       132.001494  184.445225    359.774457  \n",
       "dist_sec         2.279000    3.582000     14.879000  \n",
       "fam_n            7.000000    9.000000     24.000000  \n",
       "grc              4.000000    6.000000     14.000000  \n",
       "grc97            4.000000    6.000000     14.000000  \n",
       "hohage          43.000000   51.000000     98.000000  \n",
       "hohedu           2.000000    4.000000     20.000000  \n",
       "hohsex           1.000000    1.000000      1.000000  \n",
       "hohwag         500.000000  750.000000  14000.000000  \n",
       "indig            0.000000    1.000000      1.000000  \n",
       "min_dist       111.228612  138.446009    170.457647  \n",
       "poor             1.000000    1.000000      1.000000  \n",
       "post             0.500000    1.000000      1.000000  \n",
       "progresa         1.000000    1.000000      1.000000  \n",
       "sc               1.000000    1.000000      1.000000  \n",
       "sc97             1.000000    1.000000      1.000000  \n",
       "sex              1.000000    1.000000      1.000000  \n",
       "welfare_index  685.000000  770.000000   1294.000000  "
      ]
     },
     "execution_count": 3,
     "metadata": {},
     "output_type": "execute_result"
    }
   ],
   "source": [
    "# Define columns to be excluded in demographics database\n",
    "cols = [col for col in progresa_df.columns if col not in ['year', 'folnum', 'village']]\n",
    "\n",
    "# Create df to hold demographic columns\n",
    "progresa_demo = progresa_df[cols]\n",
    "\n",
    "# Sort and transpose\n",
    "progresa_demo_sorted = progresa_demo.sort_index(axis=1).describe().transpose()\n",
    "\n",
    "# Show df\n",
    "progresa_demo_sorted"
   ]
  },
  {
   "cell_type": "markdown",
   "metadata": {},
   "source": [
    "### 1.2 Differences at baseline?\n",
    "\n",
    "Are the baseline (1997) demographic characteristics **for the poor**  different in treatment and control villages? Hint: Use a T-Test to determine whether there is a statistically significant difference in the average values of each of the variables in the dataset. Focus only on the data from 1997 for individuals who are poor (i.e., poor=='pobre').\n",
    "\n",
    "Present your results in a single table with the following columns and 14 (or so) rows:\n",
    "\n",
    "| Variable name | Average value (Treatment villages) | Average value (Control villages) | Difference (Treat - Control) | p-value |\n",
    "|------|------|------|------|------|\n",
    "|Male|?|?|?|?|\n"
   ]
  },
  {
   "cell_type": "code",
   "execution_count": 4,
   "metadata": {
    "collapsed": false
   },
   "outputs": [
    {
     "data": {
      "text/html": [
       "<div>\n",
       "<table border=\"1\" class=\"dataframe\">\n",
       "  <thead>\n",
       "    <tr style=\"text-align: right;\">\n",
       "      <th></th>\n",
       "      <th>Average value (Treatment villages)</th>\n",
       "      <th>Average value (Control villages)</th>\n",
       "      <th>Difference (Treat - Control)</th>\n",
       "      <th>p-value</th>\n",
       "    </tr>\n",
       "    <tr>\n",
       "      <th>Variable</th>\n",
       "      <th></th>\n",
       "      <th></th>\n",
       "      <th></th>\n",
       "      <th></th>\n",
       "    </tr>\n",
       "  </thead>\n",
       "  <tbody>\n",
       "    <tr>\n",
       "      <th>year</th>\n",
       "      <td>97.000000</td>\n",
       "      <td>97.000000</td>\n",
       "      <td>0.000000</td>\n",
       "      <td>NaN</td>\n",
       "    </tr>\n",
       "    <tr>\n",
       "      <th>sex</th>\n",
       "      <td>0.519317</td>\n",
       "      <td>0.505052</td>\n",
       "      <td>0.014265</td>\n",
       "      <td>1.219172e-02</td>\n",
       "    </tr>\n",
       "    <tr>\n",
       "      <th>indig</th>\n",
       "      <td>0.325986</td>\n",
       "      <td>0.332207</td>\n",
       "      <td>-0.006222</td>\n",
       "      <td>2.453603e-01</td>\n",
       "    </tr>\n",
       "    <tr>\n",
       "      <th>dist_sec</th>\n",
       "      <td>2.453122</td>\n",
       "      <td>2.507662</td>\n",
       "      <td>-0.054540</td>\n",
       "      <td>3.569843e-02</td>\n",
       "    </tr>\n",
       "    <tr>\n",
       "      <th>sc</th>\n",
       "      <td>0.822697</td>\n",
       "      <td>0.815186</td>\n",
       "      <td>0.007511</td>\n",
       "      <td>9.517806e-02</td>\n",
       "    </tr>\n",
       "    <tr>\n",
       "      <th>grc</th>\n",
       "      <td>3.531599</td>\n",
       "      <td>3.543050</td>\n",
       "      <td>-0.011450</td>\n",
       "      <td>6.890151e-01</td>\n",
       "    </tr>\n",
       "    <tr>\n",
       "      <th>fam_n</th>\n",
       "      <td>7.281327</td>\n",
       "      <td>7.302469</td>\n",
       "      <td>-0.021142</td>\n",
       "      <td>4.271039e-01</td>\n",
       "    </tr>\n",
       "    <tr>\n",
       "      <th>min_dist</th>\n",
       "      <td>107.152915</td>\n",
       "      <td>103.237854</td>\n",
       "      <td>3.915060</td>\n",
       "      <td>2.358312e-16</td>\n",
       "    </tr>\n",
       "    <tr>\n",
       "      <th>dist_cap</th>\n",
       "      <td>150.829074</td>\n",
       "      <td>153.769730</td>\n",
       "      <td>-2.940656</td>\n",
       "      <td>8.415005e-04</td>\n",
       "    </tr>\n",
       "    <tr>\n",
       "      <th>poor</th>\n",
       "      <td>1.000000</td>\n",
       "      <td>1.000000</td>\n",
       "      <td>0.000000</td>\n",
       "      <td>NaN</td>\n",
       "    </tr>\n",
       "    <tr>\n",
       "      <th>progresa</th>\n",
       "      <td>1.000000</td>\n",
       "      <td>0.000000</td>\n",
       "      <td>1.000000</td>\n",
       "      <td>0.000000e+00</td>\n",
       "    </tr>\n",
       "    <tr>\n",
       "      <th>hohedu</th>\n",
       "      <td>2.663139</td>\n",
       "      <td>2.590348</td>\n",
       "      <td>0.072791</td>\n",
       "      <td>1.105093e-02</td>\n",
       "    </tr>\n",
       "    <tr>\n",
       "      <th>hohwag</th>\n",
       "      <td>544.339544</td>\n",
       "      <td>573.163558</td>\n",
       "      <td>-28.824015</td>\n",
       "      <td>3.253835e-04</td>\n",
       "    </tr>\n",
       "    <tr>\n",
       "      <th>welfare_index</th>\n",
       "      <td>655.428377</td>\n",
       "      <td>659.579100</td>\n",
       "      <td>-4.150723</td>\n",
       "      <td>1.431016e-03</td>\n",
       "    </tr>\n",
       "    <tr>\n",
       "      <th>hohsex</th>\n",
       "      <td>0.924656</td>\n",
       "      <td>0.922947</td>\n",
       "      <td>0.001709</td>\n",
       "      <td>5.711858e-01</td>\n",
       "    </tr>\n",
       "    <tr>\n",
       "      <th>hohage</th>\n",
       "      <td>43.648828</td>\n",
       "      <td>44.276918</td>\n",
       "      <td>-0.628090</td>\n",
       "      <td>1.796243e-06</td>\n",
       "    </tr>\n",
       "    <tr>\n",
       "      <th>age</th>\n",
       "      <td>10.716991</td>\n",
       "      <td>10.742023</td>\n",
       "      <td>-0.025032</td>\n",
       "      <td>4.785594e-01</td>\n",
       "    </tr>\n",
       "    <tr>\n",
       "      <th>village</th>\n",
       "      <td>233.795025</td>\n",
       "      <td>286.363155</td>\n",
       "      <td>-52.568130</td>\n",
       "      <td>2.114020e-205</td>\n",
       "    </tr>\n",
       "    <tr>\n",
       "      <th>folnum</th>\n",
       "      <td>19321.168233</td>\n",
       "      <td>19272.844316</td>\n",
       "      <td>48.323916</td>\n",
       "      <td>7.031082e-01</td>\n",
       "    </tr>\n",
       "    <tr>\n",
       "      <th>grc97</th>\n",
       "      <td>3.531599</td>\n",
       "      <td>3.543050</td>\n",
       "      <td>-0.011450</td>\n",
       "      <td>6.890151e-01</td>\n",
       "    </tr>\n",
       "    <tr>\n",
       "      <th>sc97</th>\n",
       "      <td>0.822697</td>\n",
       "      <td>0.815186</td>\n",
       "      <td>0.007511</td>\n",
       "      <td>9.517806e-02</td>\n",
       "    </tr>\n",
       "    <tr>\n",
       "      <th>post</th>\n",
       "      <td>0.000000</td>\n",
       "      <td>0.000000</td>\n",
       "      <td>0.000000</td>\n",
       "      <td>NaN</td>\n",
       "    </tr>\n",
       "  </tbody>\n",
       "</table>\n",
       "</div>"
      ],
      "text/plain": [
       "               Average value (Treatment villages)  \\\n",
       "Variable                                            \n",
       "year                                    97.000000   \n",
       "sex                                      0.519317   \n",
       "indig                                    0.325986   \n",
       "dist_sec                                 2.453122   \n",
       "sc                                       0.822697   \n",
       "grc                                      3.531599   \n",
       "fam_n                                    7.281327   \n",
       "min_dist                               107.152915   \n",
       "dist_cap                               150.829074   \n",
       "poor                                     1.000000   \n",
       "progresa                                 1.000000   \n",
       "hohedu                                   2.663139   \n",
       "hohwag                                 544.339544   \n",
       "welfare_index                          655.428377   \n",
       "hohsex                                   0.924656   \n",
       "hohage                                  43.648828   \n",
       "age                                     10.716991   \n",
       "village                                233.795025   \n",
       "folnum                               19321.168233   \n",
       "grc97                                    3.531599   \n",
       "sc97                                     0.822697   \n",
       "post                                     0.000000   \n",
       "\n",
       "               Average value (Control villages)  Difference (Treat - Control)  \\\n",
       "Variable                                                                        \n",
       "year                                  97.000000                      0.000000   \n",
       "sex                                    0.505052                      0.014265   \n",
       "indig                                  0.332207                     -0.006222   \n",
       "dist_sec                               2.507662                     -0.054540   \n",
       "sc                                     0.815186                      0.007511   \n",
       "grc                                    3.543050                     -0.011450   \n",
       "fam_n                                  7.302469                     -0.021142   \n",
       "min_dist                             103.237854                      3.915060   \n",
       "dist_cap                             153.769730                     -2.940656   \n",
       "poor                                   1.000000                      0.000000   \n",
       "progresa                               0.000000                      1.000000   \n",
       "hohedu                                 2.590348                      0.072791   \n",
       "hohwag                               573.163558                    -28.824015   \n",
       "welfare_index                        659.579100                     -4.150723   \n",
       "hohsex                                 0.922947                      0.001709   \n",
       "hohage                                44.276918                     -0.628090   \n",
       "age                                   10.742023                     -0.025032   \n",
       "village                              286.363155                    -52.568130   \n",
       "folnum                             19272.844316                     48.323916   \n",
       "grc97                                  3.543050                     -0.011450   \n",
       "sc97                                   0.815186                      0.007511   \n",
       "post                                   0.000000                      0.000000   \n",
       "\n",
       "                     p-value  \n",
       "Variable                      \n",
       "year                     NaN  \n",
       "sex             1.219172e-02  \n",
       "indig           2.453603e-01  \n",
       "dist_sec        3.569843e-02  \n",
       "sc              9.517806e-02  \n",
       "grc             6.890151e-01  \n",
       "fam_n           4.271039e-01  \n",
       "min_dist        2.358312e-16  \n",
       "dist_cap        8.415005e-04  \n",
       "poor                     NaN  \n",
       "progresa        0.000000e+00  \n",
       "hohedu          1.105093e-02  \n",
       "hohwag          3.253835e-04  \n",
       "welfare_index   1.431016e-03  \n",
       "hohsex          5.711858e-01  \n",
       "hohage          1.796243e-06  \n",
       "age             4.785594e-01  \n",
       "village        2.114020e-205  \n",
       "folnum          7.031082e-01  \n",
       "grc97           6.890151e-01  \n",
       "sc97            9.517806e-02  \n",
       "post                     NaN  "
      ]
     },
     "execution_count": 4,
     "metadata": {},
     "output_type": "execute_result"
    }
   ],
   "source": [
    "# Filter df to just 'poor' and '1997' records\n",
    "progresa_bl_poor = progresa_df[(progresa_df['year'] == 97) & (progresa_df['poor'] == 1)]\n",
    "\n",
    "#split into two dfs based on 'progresa' column and describe\n",
    "treated_desc = progresa_bl_poor[progresa_bl_poor['progresa'] == 1].describe()\n",
    "control_desc = progresa_bl_poor[progresa_bl_poor['progresa'] == 0].describe()\n",
    "\n",
    "#create list variable for use in for loop\n",
    "plist = []\n",
    "\n",
    "#walk through columns and calculate p-values\n",
    "for col in treated_desc:\n",
    "    #skip columns we don't care about\n",
    "    #if col in ('year', 'poor', 'progresa', 'folnum', 'village'):\n",
    "    #    continue\n",
    "    #shorthand the columns to pass into ttest function\n",
    "    treated = treated_desc[col]\n",
    "    control = control_desc[col]\n",
    "    #ttest function\n",
    "    t, p = sp.stats.ttest_ind_from_stats(treated['mean'], treated['std'], treated['count'],\n",
    "                                        control['mean'], control['std'], control['count'])\n",
    "    #treated_desc[col]['p'] = p\n",
    "    #print col, treated['mean'], control['mean'], treated['mean'] - control['mean'], p\n",
    "    plist.append(p)\n",
    "\n",
    "treated_desc.loc[len(treated_desc)] = plist\n",
    "treated_desc = treated_desc.transpose()\n",
    "control_desc = control_desc.transpose()\n",
    "treated_desc['diff'] = treated_desc['mean'] - control_desc['mean']\n",
    "\n",
    "\n",
    "#progresa_bl_compare = pd.concat([treated_desc['mean'], control_desc['mean']], treated_desc['diff']\\\n",
    "#                                , treated_desc[8], axis=1, keys=['treated_desc', 'control_desc'])\n",
    "progresa_bl_compare = pd.concat([treated_desc['mean'], control_desc['mean'], treated_desc['diff'], treated_desc[8]], axis = 1)\n",
    "\n",
    "progresa_bl_compare.columns = ['Average value (Treatment villages)', 'Average value (Control villages)'\\\n",
    "                               , 'Difference (Treat - Control)', 'p-value']\n",
    "progresa_bl_compare.index.name = 'Variable'\n",
    "progresa_bl_compare"
   ]
  },
  {
   "cell_type": "markdown",
   "metadata": {},
   "source": [
    "### 1.3 Interpretation\n",
    "\n",
    "* A: Are there statistically significant differences between treatment and control villages as baseline? \n",
    "* B: Why does it matter if there are differences at baseline?\n",
    "* C: What does this imply about how to measure the impact of the treatment?"
   ]
  },
  {
   "cell_type": "markdown",
   "metadata": {},
   "source": [
    "There appear to be several attributes of participants in treatment and control villages that showed statistically significant differences at baseline. Notably, a participant's distance from the capitol, distance from an urban center, head of household wages, head of household education, head of household age, and welfare index tended to be different in control vs. treatement villages. This is important, because a truly random assignment of treatment and control would be expected to produce two like populations. Differences at baseline in treatment and control groups make it difficult to identify causal relataionships between treatment and outcomes with simple analysis. Simple difference analysis is not sufficient. A Difference-in-Difference analysis is needed to account for dissimilarity in the baseline populations."
   ]
  },
  {
   "cell_type": "markdown",
   "metadata": {},
   "source": [
    "### 1.4 Graphical exploration, part 1\n",
    "\n",
    "For each level of household head education, compute the average enrollment rate in 1997. Create a scatterplot that shows this relationship. What do you notice?"
   ]
  },
  {
   "cell_type": "code",
   "execution_count": 5,
   "metadata": {
    "collapsed": false
   },
   "outputs": [
    {
     "data": {
      "text/plain": [
       "[<matplotlib.lines.Line2D at 0x1dd94828>]"
      ]
     },
     "execution_count": 5,
     "metadata": {},
     "output_type": "execute_result"
    },
    {
     "data": {
      "image/png": "[encoded data removed]",
      "text/plain": [
       "<matplotlib.figure.Figure at 0x4401c50>"
      ]
     },
     "metadata": {},
     "output_type": "display_data"
    }
   ],
   "source": [
    "# set y variable as mean enrollment rate: filter for 1997, then group by hohedu\n",
    "y = progresa_df[progresa_df['year'] == 97].groupby('hohedu').mean()['sc']\n",
    "# set x variable to index, which should equal the number of years\n",
    "x = y.index\n",
    "\n",
    "# plot results\n",
    "plt.figure()\n",
    "plt.plot(x,y,'bo')"
   ]
  },
  {
   "cell_type": "markdown",
   "metadata": {},
   "source": [
    "There appears to be a nearly linear, positive relationship between head of household education and the enrollment rate of a child in that house. i.e., the more years of schooling that the head of the household reported completing, the greater the likelihood that his/her child is enrolled in school."
   ]
  },
  {
   "cell_type": "markdown",
   "metadata": {},
   "source": [
    "### 1.5 Graphical exploration, part 2\n",
    "\n",
    "Create a histogram of village enrollment rates **among poor households in treated villages**, before and after treatment. Specifically, for each village, calculate the average rate of enrollment of poor households in treated villages in 1997, then compute the average rate of enrollment of poor households in treated villages in 1998. Create two separate histograms showing the distribution of these average enrollments rates, one histogram for 1997 and one histogram for 1998. On each histogram, draw a vertical line that intersects the x-axis at the average value (across all households). Does there appear to be a difference? Is this difference statistically significant?"
   ]
  },
  {
   "cell_type": "code",
   "execution_count": 6,
   "metadata": {
    "collapsed": false
   },
   "outputs": [
    {
     "data": {
      "text/plain": [
       "<matplotlib.text.Annotation at 0x1f42ed68>"
      ]
     },
     "execution_count": 6,
     "metadata": {},
     "output_type": "execute_result"
    },
    {
     "data": {
      "image/png": "[encoded data removed]",
      "text/plain": [
       "<matplotlib.figure.Figure at 0x1de3ff98>"
      ]
     },
     "metadata": {},
     "output_type": "display_data"
    },
    {
     "data": {
      "image/png": "[encoded data removed]",
      "text/plain": [
       "<matplotlib.figure.Figure at 0x1f6a1ba8>"
      ]
     },
     "metadata": {},
     "output_type": "display_data"
    }
   ],
   "source": [
    "# create df of poor, treated households in 1997, grouped by village, showing mean of enrollment\n",
    "villages7 = progresa_df[(progresa_df['year'] == 97) & (progresa_df['poor'] == 1)\\\n",
    "                        & (progresa_df['progresa'] == 1)].groupby('village').sc.mean()\n",
    "\n",
    "# create df of poor, treated households in 1998, grouped by village, showing mean of enrollment\n",
    "villages8 = progresa_df[(progresa_df['year'] == 98) & (progresa_df['poor'] == 1)\\\n",
    "                        & (progresa_df['progresa'] == 1)].groupby('village').sc.mean()\n",
    "\n",
    "# plot first histogram - 1997 df\n",
    "plt.figure(1)\n",
    "plt.hist(villages7.values, 25, label='1997')\n",
    "# Add labels for clarity\n",
    "plt.xlabel('Villages Bucketed by Rate')\n",
    "plt.ylabel('Count')\n",
    "plt.title(r'Poor + Treated Village Enrollment Rates')\n",
    "plt.legend(loc='upper left')\n",
    "# add vertical line for mean value\n",
    "plt.axvline(x=villages7.values.mean(), linewidth=2, color='red')\n",
    "# create mean label variable\n",
    "mean_text = 'mean = '+ str(round(villages7.values.mean(), 2))\n",
    "# label mean\n",
    "plt.annotate(mean_text, xy = (villages7.values.mean(), 25), xytext = (villages7.values.mean()-.13, 23))\n",
    "\n",
    "# plot second histogram - 1998 df\n",
    "plt.figure(2)\n",
    "plt.hist(villages8.values, 25, color='green', label='1998')\n",
    "\n",
    "# Add labels for clarity\n",
    "plt.xlabel('Villages Bucketed by Rate')\n",
    "plt.ylabel('Count')\n",
    "plt.title(r'Poor + Treated Village Enrollment Rates')\n",
    "plt.legend(loc='upper left')\n",
    "# add vertical line for mean value\n",
    "plt.axvline(x=villages8.values.mean(), linewidth=2, color='red')\n",
    "# create mean label variable\n",
    "mean_text = 'mean = '+ str(round(villages8.values.mean(), 2))\n",
    "# label mean\n",
    "plt.annotate(mean_text, xy = (villages8.values.mean(), 25), xytext = (villages7.values.mean()-.13, 32))\n",
    "\n"
   ]
  },
  {
   "cell_type": "code",
   "execution_count": 7,
   "metadata": {
    "collapsed": false
   },
   "outputs": [
    {
     "name": "stdout",
     "output_type": "stream",
     "text": [
      "T-test for enrollment changes in poor villages, pre/post- treatment: Ttest_indResult(statistic=-2.0157134865155664, pvalue=0.044248700365728644)\n"
     ]
    }
   ],
   "source": [
    "# calculate mean/std/count for each set, for use in ttest_ind_from_stats function below\n",
    "v7_desc = villages7.describe()\n",
    "v8_desc = villages8.describe()\n",
    "\n",
    "# ttest function\n",
    "poor_enroll_ttest = sp.stats.ttest_ind_from_stats(v7_desc['mean'], v7_desc['std'], v7_desc['count'],\n",
    "                                    v8_desc['mean'], v8_desc['std'], v8_desc['count'])\n",
    "\n",
    "# print results\n",
    "print 'T-test for enrollment changes in poor villages, pre/post- treatment:', poor_enroll_ttest"
   ]
  },
  {
   "cell_type": "markdown",
   "metadata": {},
   "source": [
    "Exploring the enrollment rates betweent pre- and post-treatment villages among poor households reveals a visible difference between the distribution means (.81 vs .83), and a statistically significant T-statistic within 95% confidence (p-value = .04). We can therefore conclude that the enrollment rate did change for poor households in treatment villages between 97 and 98."
   ]
  },
  {
   "cell_type": "markdown",
   "metadata": {},
   "source": [
    "## Part 2: Measuring Impact\n",
    "\n",
    "Our goal is to estimate the causal impact of the PROGRESA program on the social and economic outcomes of individuals in Mexico. We will focus on the impact of the program on the poor (those with poor=='pobre'), since only the poor were eligible to receive the PROGRESA assistance.\n",
    "\n",
    "### 2.1 Simple differences: T-test\n",
    "\n",
    "Begin by estimating the impact of Progresa using \"simple differences.\" Restricting yourself to data from 1998 (after treatment), calculate the average enrollment rate among **poor** households in the Treatment villages and the average enrollment rate among **poor** households in the control villages. Use a t-test to determine if this difference is statistically significant. What do you conclude?"
   ]
  },
  {
   "cell_type": "code",
   "execution_count": 8,
   "metadata": {
    "collapsed": false
   },
   "outputs": [
    {
     "name": "stdout",
     "output_type": "stream",
     "text": [
      "Difference in means: 0.0388421646651\n",
      "T-test for enrollment outcome in poor villages, treatment vs. control: Ttest_indResult(statistic=8.3587205674184784, pvalue=6.636344447517305e-17)\n"
     ]
    }
   ],
   "source": [
    "# create 2 df's for comparison: 1998 poor treated, 1998 poor untreated\n",
    "progresa8_treat = progresa_df[(progresa_df['year'] == 98) & (progresa_df['poor'] == 1)\\\n",
    "                             & (progresa_df['progresa'] == 1)]\n",
    "\n",
    "progresa8_control = progresa_df[(progresa_df['year'] == 98) & (progresa_df['poor'] == 1)\\\n",
    "                             & (progresa_df['progresa'] == 0)]\n",
    "\n",
    "# calculate mean, std, count for each df for use in ttest below\n",
    "p8_treat_sc_desc = progresa8_treat['sc'].describe()\n",
    "p8_control_sc_desc = progresa8_control['sc'].describe()\n",
    "\n",
    "# calculate simple difference in means\n",
    "treat_diff = p8_treat_sc_desc['mean'] - p8_control_sc_desc['mean']\n",
    "print 'Difference in means:', treat_diff\n",
    "\n",
    "#ttest function for simple difference\n",
    "simple_diff_ttest = sp.stats.ttest_ind_from_stats(p8_treat_sc_desc['mean'], p8_treat_sc_desc['std'], p8_treat_sc_desc['count'],\n",
    "                                    p8_control_sc_desc['mean'], p8_control_sc_desc['std'], p8_control_sc_desc['count'])\n",
    "\n",
    "# print results\n",
    "print 'T-test for enrollment outcome in poor villages, treatment vs. control:', simple_diff_ttest"
   ]
  },
  {
   "cell_type": "markdown",
   "metadata": {},
   "source": [
    "A simple difference analysis between treatment and control outcomes shows a difference of .0388% in enrollment. This is statistically significant (p-value = < .0001). Based on this information alone, it would appear that the treatement had an effect. However, as we saw before that there were significant differences between treatment and control groups pre-treatment, a simple differences analysis is not adequate."
   ]
  },
  {
   "cell_type": "markdown",
   "metadata": {},
   "source": [
    "### 2.2 Simple differences: Regression\n",
    "\n",
    "Estimate the effects of Progresa on enrollment using a regression model, by regressing the 1998 enrollment rates **of the poor** on treatment assignment. Discuss the following:\n",
    "\n",
    "* Based on this model, how much did Progresa increase the likelihood of a child enrolling?\n",
    "* How does your regression estimate compare to your t-test estimate from part 2.1?\n",
    "* Based on this regression model, can we reject the null hypothesis that the treatment effects are zero? \n",
    "* What is the counterfactual assumption underlying this regression?"
   ]
  },
  {
   "cell_type": "code",
   "execution_count": 9,
   "metadata": {
    "collapsed": false
   },
   "outputs": [
    {
     "name": "stdout",
     "output_type": "stream",
     "text": [
      "                            OLS Regression Results                            \n",
      "==============================================================================\n",
      "Dep. Variable:                     sc   R-squared:                       0.003\n",
      "Model:                            OLS   Adj. R-squared:                  0.003\n",
      "Method:                 Least Squares   F-statistic:                     69.87\n",
      "Date:                Mon, 25 Jan 2016   Prob (F-statistic):           6.64e-17\n",
      "Time:                        16:39:03   Log-Likelihood:                -11926.\n",
      "No. Observations:               27450   AIC:                         2.386e+04\n",
      "Df Residuals:                   27448   BIC:                         2.387e+04\n",
      "Df Model:                           1                                         \n",
      "Covariance Type:            nonrobust                                         \n",
      "==============================================================================\n",
      "                 coef    std err          t      P>|t|      [95.0% Conf. Int.]\n",
      "------------------------------------------------------------------------------\n",
      "Intercept      0.8076      0.004    220.676      0.000         0.800     0.815\n",
      "progresa       0.0388      0.005      8.359      0.000         0.030     0.048\n",
      "==============================================================================\n",
      "Omnibus:                     7638.939   Durbin-Watson:                   1.734\n",
      "Prob(Omnibus):                  0.000   Jarque-Bera (JB):            15767.534\n",
      "Skew:                          -1.767   Prob(JB):                         0.00\n",
      "Kurtosis:                       4.140   Cond. No.                         3.01\n",
      "==============================================================================\n",
      "\n",
      "Warnings:\n",
      "[1] Standard Errors assume that the covariance matrix of the errors is correctly specified.\n"
     ]
    }
   ],
   "source": [
    "# create df filtered for poor households in 1998\n",
    "poor8 = progresa_df[(progresa_df['year'] == 98) & (progresa_df['poor'] == 1)]\n",
    "\n",
    "# ols function regressing enrollment on treatment\n",
    "simp_diff_reg = sm.formula.ols(formula='sc ~ progresa', data=poor8).fit()\n",
    "\n",
    "print simp_diff_reg.summary()"
   ]
  },
  {
   "cell_type": "markdown",
   "metadata": {},
   "source": [
    "The result is the same as with the simple differences using the means T-test above (.0388). This means that the average percent of enrollment among treatment villages in 1998 was .0388% higher than in control villages in 1998. However, we cannot reject the null hypothesis that the treatement had no effect, because a simple differences comparison is not sufficient. We already showed that the treatment and control populations were significantly different at baseline, so we cannot attribute the difference in post-treatment enrollment to the treatment alone. The counterfactual assumption in this analysis is that absent treatment (i.e., Progresa) the average enrollment among treated villages would have been the same as control villages in 1998. We cannot safely make this assumption because we have not controlled for differences at baseline."
   ]
  },
  {
   "cell_type": "markdown",
   "metadata": {},
   "source": [
    "### 2.3 Multiple Regression\n",
    "\n",
    "Re-run the above regression estimated but this time include a set of control variables. Include, for instance, age, distance to a secondary school, gender, education of household head, welfare index, indigenous, etc.\n",
    "\n",
    "* How do the controls affect the point estimate of treatment effect?\n",
    "* How do the controls affect the standard error on the treatment effect? \n",
    "* How do you interpret the differences (or similarities) between your estimates of 2.2 and 2.3?"
   ]
  },
  {
   "cell_type": "code",
   "execution_count": 10,
   "metadata": {
    "collapsed": false
   },
   "outputs": [
    {
     "name": "stdout",
     "output_type": "stream",
     "text": [
      "                            OLS Regression Results                            \n",
      "==============================================================================\n",
      "Dep. Variable:                     sc   R-squared:                       0.332\n",
      "Model:                            OLS   Adj. R-squared:                  0.331\n",
      "Method:                 Least Squares   F-statistic:                     795.4\n",
      "Date:                Mon, 25 Jan 2016   Prob (F-statistic):               0.00\n",
      "Time:                        16:39:05   Log-Likelihood:                -6382.2\n",
      "No. Observations:               27267   AIC:                         1.280e+04\n",
      "Df Residuals:                   27249   BIC:                         1.295e+04\n",
      "Df Model:                          17                                         \n",
      "Covariance Type:            nonrobust                                         \n",
      "=================================================================================\n",
      "                    coef    std err          t      P>|t|      [95.0% Conf. Int.]\n",
      "---------------------------------------------------------------------------------\n",
      "Intercept         0.8542      0.014     63.081      0.000         0.828     0.881\n",
      "C(age)[T.8]       0.0003      0.008      0.037      0.971        -0.015     0.016\n",
      "C(age)[T.9]      -0.0020      0.008     -0.248      0.804        -0.018     0.014\n",
      "C(age)[T.10]     -0.0055      0.008     -0.671      0.502        -0.021     0.011\n",
      "C(age)[T.11]     -0.0235      0.008     -2.949      0.003        -0.039    -0.008\n",
      "C(age)[T.12]     -0.0938      0.008    -11.592      0.000        -0.110    -0.078\n",
      "C(age)[T.13]     -0.2015      0.008    -24.678      0.000        -0.218    -0.186\n",
      "C(age)[T.14]     -0.3037      0.008    -36.400      0.000        -0.320    -0.287\n",
      "C(age)[T.15]     -0.4918      0.009    -57.473      0.000        -0.509    -0.475\n",
      "C(age)[T.16]     -0.6190      0.009    -69.518      0.000        -0.636    -0.602\n",
      "C(age)[T.17]     -0.6881      0.018    -37.879      0.000        -0.724    -0.653\n",
      "progresa          0.0326      0.004      8.506      0.000         0.025     0.040\n",
      "dist_sec         -0.0112      0.001    -13.385      0.000        -0.013    -0.010\n",
      "hohedu            0.0086      0.001     11.567      0.000         0.007     0.010\n",
      "sex               0.0316      0.004      8.517      0.000         0.024     0.039\n",
      "welfare_index  4.193e-05   1.65e-05      2.543      0.011      9.62e-06  7.42e-05\n",
      "indig             0.0291      0.004      6.934      0.000         0.021     0.037\n",
      "min_dist          0.0006   4.68e-05     13.084      0.000         0.001     0.001\n",
      "==============================================================================\n",
      "Omnibus:                     3425.446   Durbin-Watson:                   1.703\n",
      "Prob(Omnibus):                  0.000   Jarque-Bera (JB):             5671.082\n",
      "Skew:                          -0.868   Prob(JB):                         0.00\n",
      "Kurtosis:                       4.407   Cond. No.                     7.71e+03\n",
      "==============================================================================\n",
      "\n",
      "Warnings:\n",
      "[1] Standard Errors assume that the covariance matrix of the errors is correctly specified.\n",
      "[2] The condition number is large, 7.71e+03. This might indicate that there are\n",
      "strong multicollinearity or other numerical problems.\n"
     ]
    }
   ],
   "source": [
    "# regress enrollment on treatment plus control variables\n",
    "simp_diff_mult_reg = sm.formula.ols(formula='sc ~ progresa + C(age) + dist_sec + hohedu + sex + welfare_index + indig + min_dist', data=poor8).fit()\n",
    "\n",
    "print simp_diff_mult_reg.summary()"
   ]
  },
  {
   "cell_type": "markdown",
   "metadata": {},
   "source": [
    "Including a number of control variables decreases the estimated effect of treatment slightly (from .0388 to .0326) with a higher t-statistic (8.359 to 8.506). The p-value is < .000 for both. Multiple regression also shows that the other variables have greater impacts on enrollment. For example, age showed significant negative impact on enrollment, with 17 year-olds being 69% less likely to enroll than other children, and 16 year-olds being 62% less likely. Male children were 3.2% more likely to be enrolled.\n",
    "\n",
    "The simple and multiple regressions do not show much difference in the estimated effect of the treatment. This would seem to indicate that enrollment in 1998 was ~ 3%-4% higher for households participating in Progresa, but does not imply a causal effect."
   ]
  },
  {
   "cell_type": "markdown",
   "metadata": {},
   "source": [
    "### 2.4 Difference-in-Difference, version 1 (tabular)\n",
    "\n",
    "Thus far, we have computed the effects of Progresa by estimating the difference in 1998 enrollment rates across villages. An alternative approach would be to compute the treatment effect using a difference-in-differences framework.\n",
    "\n",
    "Begin by estimating the average treatment effects of the program for poor households using data from 1997 and 1998. Specifically, calculate the difference (between 1997 and 1998) in enrollment rates among poor households in treated villages; then compute the difference (between 1997 and 1998) in enrollment rates among poor households in control villages. The difference between these two differences is your estimate.\n",
    "\n",
    "* What is your estimate of the impact, and how does it compare to your earlier (simple difference) results?\n",
    "* What is the counterfactual assumption underlying this estimate? \n"
   ]
  },
  {
   "cell_type": "code",
   "execution_count": 11,
   "metadata": {
    "collapsed": false
   },
   "outputs": [
    {
     "name": "stdout",
     "output_type": "stream",
     "text": [
      "Difference in means: 0.023782233992\n",
      "T-test for enrollment baseline in poor villages, treatment vs. control: Ttest_indResult(statistic=-6.0692739292913984, pvalue=1.2976490728127511e-09)\n"
     ]
    }
   ],
   "source": [
    "# poor households from 98 have already been split into treatment/control df's above. Repeat for 97.\n",
    "\n",
    "progresa7_treat = progresa_df[(progresa_df['year'] == 97) & (progresa_df['poor'] == 1)\\\n",
    "                             & (progresa_df['progresa'] == 1)]\n",
    "\n",
    "progresa7_control = progresa_df[(progresa_df['year'] == 97) & (progresa_df['poor'] == 1)\\\n",
    "                             & (progresa_df['progresa'] == 0)]\n",
    "\n",
    "# calculate mean/std/count for baseline dfs (97)\n",
    "p7_treat_sc_desc = progresa7_treat['sc'].describe()\n",
    "p7_control_sc_desc = progresa7_control['sc'].describe()\n",
    "\n",
    "# compute difference for treated outcome vs treated baseline\n",
    "treat_diff = p8_treat_sc_desc['mean'] - p7_treat_sc_desc['mean']\n",
    "\n",
    "print 'Difference in means:', treat_diff\n",
    "\n",
    "#ttest function\n",
    "treat_ttest = sp.stats.ttest_ind_from_stats(p7_treat_sc_desc['mean'], p7_treat_sc_desc['std'], p7_treat_sc_desc['count'],\n",
    "                                    p8_treat_sc_desc['mean'], p8_treat_sc_desc['std'], p8_treat_sc_desc['count'])\n",
    "\n",
    "# print results\n",
    "print 'T-test for enrollment baseline in poor villages, treatment vs. control:', treat_ttest\n"
   ]
  },
  {
   "cell_type": "code",
   "execution_count": 12,
   "metadata": {
    "collapsed": false
   },
   "outputs": [
    {
     "name": "stdout",
     "output_type": "stream",
     "text": [
      "Difference in means: -0.00754904632728\n",
      "T-test for enrollment changes in poor villages, control group: Ttest_indResult(statistic=1.4355850984946401, pvalue=0.15113452970157179)\n"
     ]
    }
   ],
   "source": [
    "# compute difference in control outcome vs baseline\n",
    "\n",
    "control_diff = p8_control_sc_desc['mean'] - p7_control_sc_desc['mean']\n",
    "\n",
    "print 'Difference in means:', control_diff\n",
    "\n",
    "#ttest function\n",
    "control_ttest = sp.stats.ttest_ind_from_stats(p7_control_sc_desc['mean'], p7_control_sc_desc['std'], p7_control_sc_desc['count'],\n",
    "                                    p8_control_sc_desc['mean'], p8_control_sc_desc['std'], p8_control_sc_desc['count'])\n",
    "\n",
    "# print results\n",
    "print 'T-test for enrollment changes in poor villages, control group:', control_ttest"
   ]
  },
  {
   "cell_type": "code",
   "execution_count": 13,
   "metadata": {
    "collapsed": false
   },
   "outputs": [
    {
     "name": "stdout",
     "output_type": "stream",
     "text": [
      "Difference in Difference: 0.0313312803193\n"
     ]
    }
   ],
   "source": [
    "#calculate diff-in-diff\n",
    "diff_in_diff = treat_diff - control_diff\n",
    "\n",
    "print 'Difference in Difference:', diff_in_diff\n",
    "\n"
   ]
  },
  {
   "cell_type": "markdown",
   "metadata": {},
   "source": [
    "The difference-in-difference analysis of progresa treatment on school enrollment rates returns an effect of .0313. This means that the treated group saw an increase in enrollment of 3.13%, when accounting for changes in enrollment rates to the control group over the same period. This assumes that in the absense of treatment, the treated group would have experienced an enrollment rate change identical to the control group's. (though it is worth noting that the control group's mean change in enrollment was not statistically significant, with a p-value > .15)\n",
    "\n",
    "Based on this analysis, it would appear that Progresa had a measurable positive effect on enrollment."
   ]
  },
  {
   "cell_type": "markdown",
   "metadata": {},
   "source": [
    "### 2.5 Difference-in-Difference, version 1 (regression)\n",
    "\n",
    "Now use a regression specification to estimate the average treatment effects of the program in a difference-in-differences framework. Include at least 5 control variables.\n",
    "\n",
    "* What is your estimate of the impact of Progresa? Be very specific in interpreting your coefficients and standard errors, and make sure to specify exactly what units you are measuring and estimating.\n",
    "* How do these estimates of the treatment effect compare to the estimates based on the simple difference?\n",
    "* How do these estimates compare to the difference-in-difference estimates from 2.4 above? What accounts for these differences?\n",
    "* What is the counterfactual assumption underlying this regression? "
   ]
  },
  {
   "cell_type": "code",
   "execution_count": 16,
   "metadata": {
    "collapsed": false
   },
   "outputs": [
    {
     "name": "stdout",
     "output_type": "stream",
     "text": [
      "                            OLS Regression Results                            \n",
      "==============================================================================\n",
      "Dep. Variable:                     sc   R-squared:                       0.346\n",
      "Model:                            OLS   Adj. R-squared:                  0.346\n",
      "Method:                 Least Squares   F-statistic:                     1619.\n",
      "Date:                Mon, 25 Jan 2016   Prob (F-statistic):               0.00\n",
      "Time:                        16:40:01   Log-Likelihood:                -13871.\n",
      "No. Observations:               58165   AIC:                         2.778e+04\n",
      "Df Residuals:                   58145   BIC:                         2.796e+04\n",
      "Df Model:                          19                                         \n",
      "Covariance Type:            nonrobust                                         \n",
      "=================================================================================\n",
      "                    coef    std err          t      P>|t|      [95.0% Conf. Int.]\n",
      "---------------------------------------------------------------------------------\n",
      "Intercept         0.9138      0.007    127.820      0.000         0.900     0.928\n",
      "C(age)[T.7]      -0.0156      0.007     -2.196      0.028        -0.030    -0.002\n",
      "C(age)[T.8]      -0.0164      0.007     -2.313      0.021        -0.030    -0.002\n",
      "C(age)[T.9]      -0.0206      0.007     -2.885      0.004        -0.035    -0.007\n",
      "C(age)[T.10]     -0.0283      0.007     -3.982      0.000        -0.042    -0.014\n",
      "C(age)[T.11]     -0.0461      0.007     -6.492      0.000        -0.060    -0.032\n",
      "C(age)[T.12]     -0.1330      0.007    -18.595      0.000        -0.147    -0.119\n",
      "C(age)[T.13]     -0.2469      0.007    -34.254      0.000        -0.261    -0.233\n",
      "C(age)[T.14]     -0.3709      0.007    -50.954      0.000        -0.385    -0.357\n",
      "C(age)[T.15]     -0.5482      0.007    -74.607      0.000        -0.563    -0.534\n",
      "C(age)[T.16]     -0.6635      0.008    -87.379      0.000        -0.678    -0.649\n",
      "C(age)[T.17]     -0.7185      0.018    -38.990      0.000        -0.755    -0.682\n",
      "progresa          0.0057      0.004      1.595      0.111        -0.001     0.013\n",
      "post              0.0140      0.004      3.343      0.001         0.006     0.022\n",
      "progresa:post     0.0304      0.005      5.781      0.000         0.020     0.041\n",
      "dist_sec         -0.0098      0.001    -16.542      0.000        -0.011    -0.009\n",
      "hohedu            0.0073      0.001     14.264      0.000         0.006     0.008\n",
      "sex               0.0342      0.003     13.399      0.000         0.029     0.039\n",
      "dist_cap          0.0003   1.87e-05     17.538      0.000         0.000     0.000\n",
      "indig             0.0233      0.003      7.504      0.000         0.017     0.029\n",
      "==============================================================================\n",
      "Omnibus:                     6486.393   Durbin-Watson:                   1.504\n",
      "Prob(Omnibus):                  0.000   Jarque-Bera (JB):            10565.067\n",
      "Skew:                          -0.794   Prob(JB):                         0.00\n",
      "Kurtosis:                       4.357   Cond. No.                     2.99e+03\n",
      "==============================================================================\n",
      "\n",
      "Warnings:\n",
      "[1] Standard Errors assume that the covariance matrix of the errors is correctly specified.\n",
      "[2] The condition number is large, 2.99e+03. This might indicate that there are\n",
      "strong multicollinearity or other numerical problems.\n"
     ]
    }
   ],
   "source": [
    "# create df of just poor households\n",
    "poor = progresa_df[progresa_df['poor'] == 1]\n",
    "\n",
    "# run regressoin of enrollment (sc) on treatment (progresa) interacted with a dummy variable to denote pre- or post-treatment\n",
    "# control for several variables. \n",
    "# make 'age' categorical, as it is not continuous and ranges only from 7-17\n",
    "did_reg = sm.formula.ols(formula='sc ~ progresa*post + C(age) + dist_sec + hohedu + sex + dist_cap + indig', data=poor).fit()\n",
    "\n",
    "print did_reg.summary()"
   ]
  },
  {
   "cell_type": "markdown",
   "metadata": {},
   "source": [
    "This difference-in-difference multiple regression shows a treatment effect of .0304. This means that the treatment group showed a 3.04% increase in enrollment when compared to the control group over the same period, while controlling for factors like age, distance from school, head of household education, sex, distance from the capitol, and indigeneity. The p-value of .02 means that we can reject the null hypothesis that there is no difference between treatment and control, and conclude that members of the treatment group did have a statistically significant difference in their outcome.\n",
    "\n",
    "The estimate of 3.04% is slightly smaller than what we calculated in the tabular difference-in-difference analysis (3.13%), which was smaller than the simple difference multiple regression (3.26%), which was smaller than the simple difference linear regression (3.88%). In other words, as we accounted for more variables (whether through adding variables to the regression, or factoring in changes to the control group), the estimated effect of the treatment decreased.\n",
    "\n",
    "The counterfactual assumption in this regression is that absent treatment, the treatment group would have had the same enrollment rate as the control group, when controlling for age, distance from school, head of household education, sex, distance from the capitol, and indigeneity."
   ]
  },
  {
   "cell_type": "markdown",
   "metadata": {},
   "source": [
    "### 2.6 Difference-in-Difference, version 2\n",
    "\n",
    "In the previous problem, you estimated a difference-in-differences model that compared changes in enrollment rates over time across treatment and control villages. An alternative approach would be to compare enrollment rates in 1998 between poor and non-poor across treatment and control villages. \n",
    "\n",
    "* How would we estimate this version of the treatment effects in a regression model? \n",
    "* What is the counterfactual assumption underlying this regression?\n",
    "* How do these treatment effects compare to the estimates above?\n",
    "* Discuss some possible explanations for differences or similarities "
   ]
  },
  {
   "cell_type": "code",
   "execution_count": 17,
   "metadata": {
    "collapsed": false
   },
   "outputs": [
    {
     "name": "stdout",
     "output_type": "stream",
     "text": [
      "                            OLS Regression Results                            \n",
      "==============================================================================\n",
      "Dep. Variable:                     sc   R-squared:                       0.332\n",
      "Model:                            OLS   Adj. R-squared:                  0.332\n",
      "Method:                 Least Squares   F-statistic:                     882.8\n",
      "Date:                Mon, 25 Jan 2016   Prob (F-statistic):               0.00\n",
      "Time:                        17:14:15   Log-Likelihood:                -7882.1\n",
      "No. Observations:               31975   AIC:                         1.580e+04\n",
      "Df Residuals:                   31956   BIC:                         1.596e+04\n",
      "Df Model:                          18                                         \n",
      "Covariance Type:            nonrobust                                         \n",
      "=================================================================================\n",
      "                    coef    std err          t      P>|t|      [95.0% Conf. Int.]\n",
      "---------------------------------------------------------------------------------\n",
      "Intercept         0.9145      0.010     90.684      0.000         0.895     0.934\n",
      "C(age)[T.8]      -0.0003      0.008     -0.039      0.969        -0.015     0.015\n",
      "C(age)[T.9]      -0.0013      0.008     -0.176      0.860        -0.016     0.014\n",
      "C(age)[T.10]     -0.0061      0.008     -0.793      0.428        -0.021     0.009\n",
      "C(age)[T.11]     -0.0223      0.008     -2.942      0.003        -0.037    -0.007\n",
      "C(age)[T.12]     -0.0935      0.008    -12.195      0.000        -0.109    -0.079\n",
      "C(age)[T.13]     -0.1950      0.008    -25.435      0.000        -0.210    -0.180\n",
      "C(age)[T.14]     -0.3020      0.008    -38.670      0.000        -0.317    -0.287\n",
      "C(age)[T.15]     -0.4886      0.008    -61.261      0.000        -0.504    -0.473\n",
      "C(age)[T.16]     -0.6114      0.008    -74.148      0.000        -0.628    -0.595\n",
      "C(age)[T.17]     -0.6969      0.016    -43.374      0.000        -0.728    -0.665\n",
      "progresa          0.0213      0.009      2.286      0.022         0.003     0.039\n",
      "poor             -0.0295      0.008     -3.716      0.000        -0.045    -0.014\n",
      "progresa:poor     0.0152      0.010      1.510      0.131        -0.005     0.035\n",
      "dist_sec         -0.0107      0.001    -13.343      0.000        -0.012    -0.009\n",
      "hohedu            0.0087      0.001     13.129      0.000         0.007     0.010\n",
      "sex               0.0317      0.003      9.138      0.000         0.025     0.038\n",
      "dist_cap          0.0004   2.58e-05     14.923      0.000         0.000     0.000\n",
      "indig             0.0184      0.004      4.266      0.000         0.010     0.027\n",
      "==============================================================================\n",
      "Omnibus:                     3652.094   Durbin-Watson:                   1.710\n",
      "Prob(Omnibus):                  0.000   Jarque-Bera (JB):             5700.930\n",
      "Skew:                          -0.828   Prob(JB):                         0.00\n",
      "Kurtosis:                       4.239   Cond. No.                     1.94e+03\n",
      "==============================================================================\n",
      "\n",
      "Warnings:\n",
      "[1] Standard Errors assume that the covariance matrix of the errors is correctly specified.\n",
      "[2] The condition number is large, 1.94e+03. This might indicate that there are\n",
      "strong multicollinearity or other numerical problems.\n"
     ]
    }
   ],
   "source": [
    "# create df to hold outcomes (1998)\n",
    "progresa8 = progresa_df[progresa_df['year'] == 98]\n",
    "\n",
    "# regress enrollment onto treatment interacted with poor, controlling for the other variables\n",
    "did_reg2 = sm.formula.ols(formula='sc ~ progresa*poor + C(age) + dist_sec + hohedu + sex + dist_cap + indig', data=progresa8).fit()\n",
    "\n",
    "print did_reg2.summary()"
   ]
  },
  {
   "cell_type": "markdown",
   "metadata": {},
   "source": [
    "In this regression, the counterfactual assumption is that absent treatment, the difference in enrollment between treatment and control groups in poor and non-poor villages would have been the same, when controlling for age, distance from school, head of household education, sex, distance from the capitol, and indigeneity. The results of the regression are not significant enough (p-value = .131) to reject the null hypothesis that poor treatment households have meaningfully different enrollment rates in 1998. Another way of saying this is that the treatment on poor households does not have a correlation with different enrollment rates. Yet treatment on non-poor households does correlate with an enrollment increase of 2.1% (p-value = .022).\n",
    "\n",
    "One possible explanation for this difference between treated poor and non-poor enrollment rates is that non-poor families could better afford to forego the income generated by a working child (of which Progresa covered ~ 75%), and so would be more inclined to enroll their child. Poor families may not have viewed the Progresa funds as sufficient to forego the additional income. "
   ]
  },
  {
   "cell_type": "markdown",
   "metadata": {},
   "source": [
    "### 2.7 Spillover effects (extra credit)\n",
    "\n",
    "Thus far, we have focused on the impact of PROGRESA on poor households. Repeat your analysis in 2.5, instead focusing on the impact of PROGRESA on non-poor households. \n",
    "* A: Describe one or two reasons why PROGRESA might have impacted non-poor households.\n",
    "* B: Do you observe any impacts of PROGRESA on the non-poor?"
   ]
  },
  {
   "cell_type": "code",
   "execution_count": 19,
   "metadata": {
    "collapsed": false
   },
   "outputs": [
    {
     "name": "stdout",
     "output_type": "stream",
     "text": [
      "                            OLS Regression Results                            \n",
      "==============================================================================\n",
      "Dep. Variable:                     sc   R-squared:                       0.361\n",
      "Model:                            OLS   Adj. R-squared:                  0.360\n",
      "Method:                 Least Squares   F-statistic:                     308.0\n",
      "Date:                Mon, 25 Jan 2016   Prob (F-statistic):               0.00\n",
      "Time:                        17:48:20   Log-Likelihood:                -3107.7\n",
      "No. Observations:               10378   AIC:                             6255.\n",
      "Df Residuals:                   10358   BIC:                             6400.\n",
      "Df Model:                          19                                         \n",
      "Covariance Type:            nonrobust                                         \n",
      "=================================================================================\n",
      "                    coef    std err          t      P>|t|      [95.0% Conf. Int.]\n",
      "---------------------------------------------------------------------------------\n",
      "Intercept         0.8831      0.020     44.741      0.000         0.844     0.922\n",
      "C(age)[T.7]      -0.0134      0.021     -0.639      0.523        -0.055     0.028\n",
      "C(age)[T.8]      -0.0134      0.021     -0.639      0.523        -0.054     0.028\n",
      "C(age)[T.9]      -0.0149      0.021     -0.724      0.469        -0.055     0.025\n",
      "C(age)[T.10]     -0.0232      0.020     -1.141      0.254        -0.063     0.017\n",
      "C(age)[T.11]     -0.0279      0.020     -1.367      0.172        -0.068     0.012\n",
      "C(age)[T.12]     -0.1011      0.020     -5.062      0.000        -0.140    -0.062\n",
      "C(age)[T.13]     -0.1907      0.020     -9.623      0.000        -0.229    -0.152\n",
      "C(age)[T.14]     -0.2997      0.020    -15.050      0.000        -0.339    -0.261\n",
      "C(age)[T.15]     -0.4772      0.020    -24.129      0.000        -0.516    -0.438\n",
      "C(age)[T.16]     -0.6658      0.020    -34.044      0.000        -0.704    -0.627\n",
      "C(age)[T.17]     -0.7472      0.037    -20.382      0.000        -0.819    -0.675\n",
      "progresa          0.0200      0.009      2.269      0.023         0.003     0.037\n",
      "post              0.0239      0.010      2.318      0.020         0.004     0.044\n",
      "progresa:post    -0.0020      0.013     -0.150      0.880        -0.028     0.024\n",
      "dist_sec         -0.0148      0.002     -8.837      0.000        -0.018    -0.012\n",
      "hohedu            0.0090      0.001      8.824      0.000         0.007     0.011\n",
      "sex               0.0326      0.006      5.076      0.000         0.020     0.045\n",
      "dist_cap          0.0006   5.23e-05     11.631      0.000         0.001     0.001\n",
      "indig             0.0177      0.010      1.790      0.073        -0.002     0.037\n",
      "==============================================================================\n",
      "Omnibus:                      625.627   Durbin-Watson:                   1.498\n",
      "Prob(Omnibus):                  0.000   Jarque-Bera (JB):              787.636\n",
      "Skew:                          -0.585   Prob(JB):                    9.27e-172\n",
      "Kurtosis:                       3.673   Cond. No.                     2.68e+03\n",
      "==============================================================================\n",
      "\n",
      "Warnings:\n",
      "[1] Standard Errors assume that the covariance matrix of the errors is correctly specified.\n",
      "[2] The condition number is large, 2.68e+03. This might indicate that there are\n",
      "strong multicollinearity or other numerical problems.\n"
     ]
    }
   ],
   "source": [
    "# create df of just poor households\n",
    "non_poor = progresa_df[progresa_df['poor'] == 0]\n",
    "\n",
    "# regress enrollment onto treatment and pre/post dummy variable, plus controls\n",
    "did_reg_non_poor = sm.formula.ols(formula='sc ~ progresa*post + C(age) + dist_sec + hohedu + sex + dist_cap + indig', data=non_poor).fit()\n",
    "\n",
    "print did_reg_non_poor.summary()\n"
   ]
  },
  {
   "cell_type": "markdown",
   "metadata": {},
   "source": [
    "As alluded to in 2.6, Progresa may have impacted non-poor households that were incented to enroll their children in school in order to qualify for the subsidy. Yet in this diff-in-diff regression, we do not see the effect. Treated non-poor households do not have a statistically different enrollment rate than non-treated non-poor households (p-value = .88). "
   ]
  },
  {
   "cell_type": "markdown",
   "metadata": {},
   "source": [
    "### 2.8 Summary\n",
    "\n",
    "Based on all the analysis you have undertaken to date, do you believe that Progresa had a causal impact on the enrollment rates of poor households in Mexico?"
   ]
  },
  {
   "cell_type": "markdown",
   "metadata": {},
   "source": [
    "It appears that there is evidence that Progresa had a causal impact on enrollment rates in poor households. The regression from 2.5 supports this, while controlling for a variety of important variables. Differences at baseline are accounted for using difference-in-difference, and subsequent analysis on non-poor enrollment and progresa impact does not alter the estimated 3.04% increase in enrollment among treated households. \n",
    "\n",
    "Perhaps a harder question is whether the program was worthwhile. Not knowing the target increase of enrollment that the program managers were seeking, I don't know whether it succeeded. I imagine an economic analysis on the long-term effects of increased enrollment and future earnings against the total expense of the program would best support that argument one way or another."
   ]
  }
 ],
 "metadata": {
  "kernelspec": {
   "display_name": "Python 2",
   "language": "python",
   "name": "python2"
  },
  "language_info": {
   "codemirror_mode": {
    "name": "ipython",
    "version": 2
   },
   "file_extension": ".py",
   "mimetype": "text/x-python",
   "name": "python",
   "nbconvert_exporter": "python",
   "pygments_lexer": "ipython2",
   "version": "2.7.11"
  }
 },
 "nbformat": 4,
 "nbformat_minor": 0
}
